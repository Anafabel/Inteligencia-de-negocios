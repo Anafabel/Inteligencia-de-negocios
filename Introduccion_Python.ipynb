{
 "cells": [
  {
   "cell_type": "markdown",
   "metadata": {},
   "source": [
    "# Introducción"
   ]
  },
  {
   "cell_type": "markdown",
   "metadata": {},
   "source": [
    "<img src=\"img\\step.png\" alt=\"Spyder\" width=\"1000\"/>"
   ]
  },
  {
   "cell_type": "code",
   "execution_count": 1,
   "metadata": {},
   "outputs": [],
   "source": [
    "# Comando para actualizar jupyter notebook\n",
    "# !pip install notebook --upgrade"
   ]
  },
  {
   "cell_type": "code",
   "execution_count": null,
   "metadata": {
    "colab": {
     "base_uri": "https://localhost:8080/",
     "height": 35
    },
    "colab_type": "code",
    "id": "1B_9zUeqeRWk",
    "outputId": "4a924fac-5b2a-4664-b7ca-012d5b7add82"
   },
   "outputs": [],
   "source": [
    "# Esto es un comentario"
   ]
  },
  {
   "cell_type": "markdown",
   "metadata": {},
   "source": [
    "# Python - Conceptos basicos  \n",
    "\n"
   ]
  },
  {
   "cell_type": "markdown",
   "metadata": {},
   "source": [
    "### Obteniendo ayuda en el interprete de python"
   ]
  },
  {
   "cell_type": "code",
   "execution_count": 1,
   "metadata": {},
   "outputs": [
    {
     "name": "stdout",
     "output_type": "stream",
     "text": [
      "Help on module string:\n",
      "\n",
      "NAME\n",
      "    string - A collection of string constants.\n",
      "\n",
      "DESCRIPTION\n",
      "    Public module variables:\n",
      "    \n",
      "    whitespace -- a string containing all ASCII whitespace\n",
      "    ascii_lowercase -- a string containing all ASCII lowercase letters\n",
      "    ascii_uppercase -- a string containing all ASCII uppercase letters\n",
      "    ascii_letters -- a string containing all ASCII letters\n",
      "    digits -- a string containing all ASCII decimal digits\n",
      "    hexdigits -- a string containing all ASCII hexadecimal digits\n",
      "    octdigits -- a string containing all ASCII octal digits\n",
      "    punctuation -- a string containing all ASCII punctuation characters\n",
      "    printable -- a string containing all ASCII characters considered printable\n",
      "\n",
      "CLASSES\n",
      "    builtins.object\n",
      "        Formatter\n",
      "        Template\n",
      "    \n",
      "    class Formatter(builtins.object)\n",
      "     |  Methods defined here:\n",
      "     |  \n",
      "     |  check_unused_args(self, used_args, args, kwargs)\n",
      "     |  \n",
      "     |  convert_field(self, value, conversion)\n",
      "     |  \n",
      "     |  format(*args, **kwargs)\n",
      "     |  \n",
      "     |  format_field(self, value, format_spec)\n",
      "     |  \n",
      "     |  get_field(self, field_name, args, kwargs)\n",
      "     |      # given a field_name, find the object it references.\n",
      "     |      #  field_name:   the field being looked up, e.g. \"0.name\"\n",
      "     |      #                 or \"lookup[3]\"\n",
      "     |      #  used_args:    a set of which args have been used\n",
      "     |      #  args, kwargs: as passed in to vformat\n",
      "     |  \n",
      "     |  get_value(self, key, args, kwargs)\n",
      "     |  \n",
      "     |  parse(self, format_string)\n",
      "     |      # returns an iterable that contains tuples of the form:\n",
      "     |      # (literal_text, field_name, format_spec, conversion)\n",
      "     |      # literal_text can be zero length\n",
      "     |      # field_name can be None, in which case there's no\n",
      "     |      #  object to format and output\n",
      "     |      # if field_name is not None, it is looked up, formatted\n",
      "     |      #  with format_spec and conversion and then used\n",
      "     |  \n",
      "     |  vformat(self, format_string, args, kwargs)\n",
      "     |  \n",
      "     |  ----------------------------------------------------------------------\n",
      "     |  Data descriptors defined here:\n",
      "     |  \n",
      "     |  __dict__\n",
      "     |      dictionary for instance variables (if defined)\n",
      "     |  \n",
      "     |  __weakref__\n",
      "     |      list of weak references to the object (if defined)\n",
      "    \n",
      "    class Template(builtins.object)\n",
      "     |  Template(template)\n",
      "     |  \n",
      "     |  A string class for supporting $-substitutions.\n",
      "     |  \n",
      "     |  Methods defined here:\n",
      "     |  \n",
      "     |  __init__(self, template)\n",
      "     |      Initialize self.  See help(type(self)) for accurate signature.\n",
      "     |  \n",
      "     |  safe_substitute(*args, **kws)\n",
      "     |  \n",
      "     |  substitute(*args, **kws)\n",
      "     |  \n",
      "     |  ----------------------------------------------------------------------\n",
      "     |  Data descriptors defined here:\n",
      "     |  \n",
      "     |  __dict__\n",
      "     |      dictionary for instance variables (if defined)\n",
      "     |  \n",
      "     |  __weakref__\n",
      "     |      list of weak references to the object (if defined)\n",
      "     |  \n",
      "     |  ----------------------------------------------------------------------\n",
      "     |  Data and other attributes defined here:\n",
      "     |  \n",
      "     |  braceidpattern = None\n",
      "     |  \n",
      "     |  delimiter = '$'\n",
      "     |  \n",
      "     |  flags = <RegexFlag.IGNORECASE: 2>\n",
      "     |  \n",
      "     |  idpattern = '(?a:[_a-z][_a-z0-9]*)'\n",
      "     |  \n",
      "     |  pattern = re.compile('\\n    \\\\$(?:\\n      (?P<escaped>\\\\$)...ced>(?a:[...\n",
      "\n",
      "FUNCTIONS\n",
      "    capwords(s, sep=None)\n",
      "        capwords(s [,sep]) -> string\n",
      "        \n",
      "        Split the argument into words using split, capitalize each\n",
      "        word using capitalize, and join the capitalized words using\n",
      "        join.  If the optional second argument sep is absent or None,\n",
      "        runs of whitespace characters are replaced by a single space\n",
      "        and leading and trailing whitespace are removed, otherwise\n",
      "        sep is used to split and join the words.\n",
      "\n",
      "DATA\n",
      "    __all__ = ['ascii_letters', 'ascii_lowercase', 'ascii_uppercase', 'cap...\n",
      "    ascii_letters = 'abcdefghijklmnopqrstuvwxyzABCDEFGHIJKLMNOPQRSTUVWXYZ'\n",
      "    ascii_lowercase = 'abcdefghijklmnopqrstuvwxyz'\n",
      "    ascii_uppercase = 'ABCDEFGHIJKLMNOPQRSTUVWXYZ'\n",
      "    digits = '0123456789'\n",
      "    hexdigits = '0123456789abcdefABCDEF'\n",
      "    octdigits = '01234567'\n",
      "    printable = '0123456789abcdefghijklmnopqrstuvwxyzABCDEFGHIJKLMNOPQRSTU...\n",
      "    punctuation = '!\"#$%&\\'()*+,-./:;<=>?@[\\\\]^_`{|}~'\n",
      "    whitespace = ' \\t\\n\\r\\x0b\\x0c'\n",
      "\n",
      "FILE\n",
      "    c:\\users\\eavalos\\appdata\\local\\continuum\\anaconda3\\lib\\string.py\n",
      "\n",
      "\n"
     ]
    }
   ],
   "source": [
    "# Comando help, muestra la documentacion de algun objeto.\n",
    "help(\"string\")\n"
   ]
  },
  {
   "cell_type": "code",
   "execution_count": 7,
   "metadata": {},
   "outputs": [],
   "source": [
    "# Un resultado similar se obtiene si colocamos un signo de interrogación\n",
    "# antes del objeto:\n",
    "\n",
    "?type"
   ]
  },
  {
   "cell_type": "code",
   "execution_count": 10,
   "metadata": {},
   "outputs": [
    {
     "name": "stdout",
     "output_type": "stream",
     "text": [
      "<class 'int'>\n",
      "<class 'float'>\n",
      "<class 'bool'>\n",
      "<class 'str'>\n",
      "<class '_sitebuiltins._Helper'>\n",
      "<class 'builtin_function_or_method'>\n"
     ]
    }
   ],
   "source": [
    "# Comando type, si se le pasa un solo argumento, nos dirá el tipo de objeto:\n",
    "print(type(8))\n",
    "print(type(3.14))\n",
    "print(type(True))\n",
    "print(type(\"String\"))\n",
    "print(type(help))\n",
    "print(type(dir))"
   ]
  },
  {
   "cell_type": "code",
   "execution_count": 8,
   "metadata": {},
   "outputs": [
    {
     "name": "stdout",
     "output_type": "stream",
     "text": [
      "['__abs__', '__add__', '__and__', '__bool__', '__ceil__', '__class__', '__delattr__', '__dir__', '__divmod__', '__doc__', '__eq__', '__float__', '__floor__', '__floordiv__', '__format__', '__ge__', '__getattribute__', '__getnewargs__', '__gt__', '__hash__', '__index__', '__init__', '__init_subclass__', '__int__', '__invert__', '__le__', '__lshift__', '__lt__', '__mod__', '__mul__', '__ne__', '__neg__', '__new__', '__or__', '__pos__', '__pow__', '__radd__', '__rand__', '__rdivmod__', '__reduce__', '__reduce_ex__', '__repr__', '__rfloordiv__', '__rlshift__', '__rmod__', '__rmul__', '__ror__', '__round__', '__rpow__', '__rrshift__', '__rshift__', '__rsub__', '__rtruediv__', '__rxor__', '__setattr__', '__sizeof__', '__str__', '__sub__', '__subclasshook__', '__truediv__', '__trunc__', '__xor__', 'bit_length', 'conjugate', 'denominator', 'from_bytes', 'imag', 'numerator', 'real', 'to_bytes']\n"
     ]
    }
   ],
   "source": [
    "# Comando dir, muestra los atributos y metodos de un objeto.\n",
    "print(dir(5))"
   ]
  },
  {
   "cell_type": "code",
   "execution_count": 6,
   "metadata": {},
   "outputs": [
    {
     "data": {
      "application/json": {
       "cell": {
        "!": "OSMagics",
        "HTML": "Other",
        "SVG": "Other",
        "bash": "Other",
        "capture": "ExecutionMagics",
        "debug": "ExecutionMagics",
        "file": "Other",
        "html": "DisplayMagics",
        "javascript": "DisplayMagics",
        "latex": "DisplayMagics",
        "perl": "Other",
        "prun": "ExecutionMagics",
        "pypy": "Other",
        "python": "Other",
        "python2": "Other",
        "python3": "Other",
        "ruby": "Other",
        "script": "ScriptMagics",
        "sh": "Other",
        "svg": "DisplayMagics",
        "sx": "OSMagics",
        "system": "OSMagics",
        "time": "ExecutionMagics",
        "timeit": "ExecutionMagics",
        "writefile": "OSMagics"
       },
       "line": {
        "alias": "OSMagics",
        "alias_magic": "BasicMagics",
        "autocall": "AutoMagics",
        "automagic": "AutoMagics",
        "autosave": "KernelMagics",
        "bookmark": "OSMagics",
        "cat": "Other",
        "cd": "OSMagics",
        "clear": "KernelMagics",
        "colors": "BasicMagics",
        "config": "ConfigMagics",
        "connect_info": "KernelMagics",
        "cp": "Other",
        "debug": "ExecutionMagics",
        "dhist": "OSMagics",
        "dirs": "OSMagics",
        "doctest_mode": "BasicMagics",
        "ed": "Other",
        "edit": "KernelMagics",
        "env": "OSMagics",
        "gui": "BasicMagics",
        "hist": "Other",
        "history": "HistoryMagics",
        "install_default_config": "DeprecatedMagics",
        "install_ext": "ExtensionMagics",
        "install_profiles": "DeprecatedMagics",
        "killbgscripts": "ScriptMagics",
        "ldir": "Other",
        "less": "KernelMagics",
        "lf": "Other",
        "lk": "Other",
        "ll": "Other",
        "load": "CodeMagics",
        "load_ext": "ExtensionMagics",
        "loadpy": "CodeMagics",
        "logoff": "LoggingMagics",
        "logon": "LoggingMagics",
        "logstart": "LoggingMagics",
        "logstate": "LoggingMagics",
        "logstop": "LoggingMagics",
        "ls": "Other",
        "lsmagic": "BasicMagics",
        "lx": "Other",
        "macro": "ExecutionMagics",
        "magic": "BasicMagics",
        "man": "KernelMagics",
        "matplotlib": "PylabMagics",
        "mkdir": "Other",
        "more": "KernelMagics",
        "mv": "Other",
        "notebook": "BasicMagics",
        "page": "BasicMagics",
        "pastebin": "CodeMagics",
        "pdb": "ExecutionMagics",
        "pdef": "NamespaceMagics",
        "pdoc": "NamespaceMagics",
        "pfile": "NamespaceMagics",
        "pinfo": "NamespaceMagics",
        "pinfo2": "NamespaceMagics",
        "popd": "OSMagics",
        "pprint": "BasicMagics",
        "precision": "BasicMagics",
        "profile": "BasicMagics",
        "prun": "ExecutionMagics",
        "psearch": "NamespaceMagics",
        "psource": "NamespaceMagics",
        "pushd": "OSMagics",
        "pwd": "OSMagics",
        "pycat": "OSMagics",
        "pylab": "PylabMagics",
        "qtconsole": "KernelMagics",
        "quickref": "BasicMagics",
        "recall": "HistoryMagics",
        "rehashx": "OSMagics",
        "reload_ext": "ExtensionMagics",
        "rep": "Other",
        "rerun": "HistoryMagics",
        "reset": "NamespaceMagics",
        "reset_selective": "NamespaceMagics",
        "rm": "Other",
        "rmdir": "Other",
        "run": "ExecutionMagics",
        "save": "CodeMagics",
        "sc": "OSMagics",
        "set_env": "OSMagics",
        "store": "StoreMagics",
        "sx": "OSMagics",
        "system": "OSMagics",
        "tb": "ExecutionMagics",
        "time": "ExecutionMagics",
        "timeit": "ExecutionMagics",
        "unalias": "OSMagics",
        "unload_ext": "ExtensionMagics",
        "who": "NamespaceMagics",
        "who_ls": "NamespaceMagics",
        "whos": "NamespaceMagics",
        "xdel": "NamespaceMagics",
        "xmode": "BasicMagics"
       }
      },
      "text/plain": [
       "Available line magics:\n",
       "%alias  %alias_magic  %autocall  %automagic  %autosave  %bookmark  %cat  %cd  %clear  %colors  %config  %connect_info  %cp  %debug  %dhist  %dirs  %doctest_mode  %ed  %edit  %env  %gui  %hist  %history  %install_default_config  %install_ext  %install_profiles  %killbgscripts  %ldir  %less  %lf  %lk  %ll  %load  %load_ext  %loadpy  %logoff  %logon  %logstart  %logstate  %logstop  %ls  %lsmagic  %lx  %macro  %magic  %man  %matplotlib  %mkdir  %more  %mv  %notebook  %page  %pastebin  %pdb  %pdef  %pdoc  %pfile  %pinfo  %pinfo2  %popd  %pprint  %precision  %profile  %prun  %psearch  %psource  %pushd  %pwd  %pycat  %pylab  %qtconsole  %quickref  %recall  %rehashx  %reload_ext  %rep  %rerun  %reset  %reset_selective  %rm  %rmdir  %run  %save  %sc  %set_env  %store  %sx  %system  %tb  %time  %timeit  %unalias  %unload_ext  %who  %who_ls  %whos  %xdel  %xmode\n",
       "\n",
       "Available cell magics:\n",
       "%%!  %%HTML  %%SVG  %%bash  %%capture  %%debug  %%file  %%html  %%javascript  %%latex  %%perl  %%prun  %%pypy  %%python  %%python2  %%python3  %%ruby  %%script  %%sh  %%svg  %%sx  %%system  %%time  %%timeit  %%writefile\n",
       "\n",
       "Automagic is ON, % prefix IS NOT needed for line magics."
      ]
     },
     "execution_count": 6,
     "metadata": {},
     "output_type": "execute_result"
    }
   ],
   "source": [
    "# Las funciones mágicas de python proveen una serie de funciones que nos\n",
    "# permiten manejar el entorno de trabajo de Python, semejante a como lo\n",
    "# haríamos desde la consola.\n",
    "# Para mayor información, visitar:\n",
    "# https://github.com/lmmx/devnotes/wiki/IPython-%27magic%27-function-documentation\n",
    "\n",
    "%lsmagic"
   ]
  },
  {
   "cell_type": "code",
   "execution_count": null,
   "metadata": {},
   "outputs": [],
   "source": [
    "# Python - Conceptos basicos  \n",
    "\n",
    "\n",
    "\n",
    "### Obteniendo ayuda en el interprete de python\n",
    "\n",
    "# Comando help, muestra la documentacion de algun objeto.\n",
    "help(\"string\")\n",
    "\n",
    "\n",
    "# Un resultado similar se obtiene si colocamos un signo de interrogación\n",
    "# antes del objeto:\n",
    "\n",
    "?type\n",
    "\n",
    "# Comando type, si se le pasa un solo argumento, nos dirá el tipo de objeto:\n",
    "print(type(8))\n",
    "print(type(3.14))\n",
    "print(type(True))\n",
    "print(type(\"String\"))\n",
    "print(type(help))\n",
    "print(type(dir))\n",
    "\n",
    "# Comando dir, muestra los atributos y metodos de un objeto.\n",
    "print(dir(5))\n",
    "\n",
    "# Las funciones mágicas de python proveen una serie de funciones que nos\n",
    "# permiten manejar el entorno de trabajo de Python, semejante a como lo\n",
    "# haríamos desde la consola.\n",
    "# Para mayor información, visitar:\n",
    "# https://github.com/lmmx/devnotes/wiki/IPython-%27magic%27-function-documentation\n",
    "\n",
    "%lsmagic'''\n",
    "Esto también es un comentario, solo que \n",
    "se puede usar en varias lineas de código.\n",
    "Su uso es principalmente el de dar ayuda\n",
    "dentro de la declaración de una función.\n",
    "'''"
   ]
  },
  {
   "cell_type": "code",
   "execution_count": null,
   "metadata": {
    "scrolled": true
   },
   "outputs": [],
   "source": [
    "# El primer método que se usará en el curso\n",
    "\n",
    "print(\"hola mundo!\")"
   ]
  },
  {
   "cell_type": "markdown",
   "metadata": {},
   "source": [
    "**Una función siempre vendra acompañada de ()**\n",
    "\n",
    "Esta es una celda de tipo markdown"
   ]
  },
  {
   "cell_type": "markdown",
   "metadata": {
    "colab_type": "text",
    "id": "8j46JbJRhsoP"
   },
   "source": [
    "**Sitios de interés para la materia**\n",
    "\n",
    "1. *colaboratory*\n",
    "\n",
    "2. *anaconda*\n",
    "\n",
    "3. *github*\n",
    "\n",
    "4. *google*"
   ]
  },
  {
   "cell_type": "markdown",
   "metadata": {
    "colab_type": "text",
    "id": "ZViV0AFoiO5Z"
   },
   "source": [
    "# Esto es un título"
   ]
  },
  {
   "cell_type": "markdown",
   "metadata": {
    "colab_type": "text",
    "id": "9j1tPR-9i2Qn"
   },
   "source": [
    "## Esto es un subtítulo"
   ]
  },
  {
   "cell_type": "markdown",
   "metadata": {
    "colab_type": "text",
    "id": "W24AV2bZpOcd"
   },
   "source": [
    "# Operadores básicos"
   ]
  },
  {
   "cell_type": "code",
   "execution_count": null,
   "metadata": {
    "colab": {
     "base_uri": "https://localhost:8080/",
     "height": 35
    },
    "colab_type": "code",
    "id": "XSG7HYlYpScb",
    "outputId": "325c4a30-3dfc-4ac9-e59f-6033a0ff1580"
   },
   "outputs": [],
   "source": [
    "# Suma\n",
    "10+5"
   ]
  },
  {
   "cell_type": "code",
   "execution_count": null,
   "metadata": {
    "colab": {
     "base_uri": "https://localhost:8080/",
     "height": 35
    },
    "colab_type": "code",
    "id": "DAcs7k32o60E",
    "outputId": "6c2bee16-2850-442e-dd53-cf23a3e9d10a"
   },
   "outputs": [],
   "source": [
    "# Resta\n",
    "10-6"
   ]
  },
  {
   "cell_type": "code",
   "execution_count": null,
   "metadata": {
    "colab": {
     "base_uri": "https://localhost:8080/",
     "height": 35
    },
    "colab_type": "code",
    "id": "DZiY45cVpzj8",
    "outputId": "344a2a70-8b25-4888-921d-a0a12585f879"
   },
   "outputs": [],
   "source": [
    "#Multiplicación\n",
    "3*2"
   ]
  },
  {
   "cell_type": "code",
   "execution_count": null,
   "metadata": {
    "colab": {
     "base_uri": "https://localhost:8080/",
     "height": 35
    },
    "colab_type": "code",
    "id": "v_eZVK3ep4fk",
    "outputId": "294faed2-a268-42e3-d54f-e847dae12887"
   },
   "outputs": [],
   "source": [
    "# División\n",
    "8/3"
   ]
  },
  {
   "cell_type": "code",
   "execution_count": null,
   "metadata": {
    "colab": {
     "base_uri": "https://localhost:8080/",
     "height": 35
    },
    "colab_type": "code",
    "id": "JODz958Dp8ie",
    "outputId": "b4616532-7bcf-4795-a141-1e08484b9f4b"
   },
   "outputs": [],
   "source": [
    "# División entera\n",
    "8//3"
   ]
  },
  {
   "cell_type": "code",
   "execution_count": null,
   "metadata": {
    "colab": {
     "base_uri": "https://localhost:8080/",
     "height": 35
    },
    "colab_type": "code",
    "id": "7-T0zPkUqMeG",
    "outputId": "42d1e769-b85a-4683-ee7f-abc8a797d345"
   },
   "outputs": [],
   "source": [
    "# Módulo de la división\n",
    "8%3"
   ]
  },
  {
   "cell_type": "code",
   "execution_count": null,
   "metadata": {
    "colab": {
     "base_uri": "https://localhost:8080/",
     "height": 35
    },
    "colab_type": "code",
    "id": "LOUS_OdNqURe",
    "outputId": "9146b7ba-68e8-41c1-9ed0-66262c4ba46c"
   },
   "outputs": [],
   "source": [
    "# Potencia\n",
    "2**3"
   ]
  },
  {
   "cell_type": "code",
   "execution_count": null,
   "metadata": {
    "colab": {},
    "colab_type": "code",
    "id": "ctsrMRS9qbN-"
   },
   "outputs": [],
   "source": [
    "# Raíz\n",
    "64**0.5"
   ]
  },
  {
   "cell_type": "markdown",
   "metadata": {
    "colab_type": "text",
    "id": "bx0lzRoKqzkI"
   },
   "source": [
    "# Declaración de variables"
   ]
  },
  {
   "cell_type": "code",
   "execution_count": null,
   "metadata": {},
   "outputs": [],
   "source": [
    "texto='Hola mundo!'"
   ]
  },
  {
   "cell_type": "code",
   "execution_count": null,
   "metadata": {
    "colab": {},
    "colab_type": "code",
    "id": "mlU8kkgPqpQi"
   },
   "outputs": [],
   "source": [
    "# Declaración de 2 tipos diferentes de variables\n",
    "texto1=\"Hola mundo!\"\n",
    "texto2=10"
   ]
  },
  {
   "cell_type": "code",
   "execution_count": null,
   "metadata": {},
   "outputs": [],
   "source": [
    "print(texto==texto1)"
   ]
  },
  {
   "cell_type": "code",
   "execution_count": null,
   "metadata": {},
   "outputs": [],
   "source": [
    "#texto3=\"Hola mundo!'"
   ]
  },
  {
   "cell_type": "code",
   "execution_count": null,
   "metadata": {
    "colab": {
     "base_uri": "https://localhost:8080/",
     "height": 35
    },
    "colab_type": "code",
    "id": "9Q_63bmxrVbX",
    "outputId": "7895f229-3cc0-4534-e9b9-39e5f96d8aad"
   },
   "outputs": [],
   "source": [
    "# Usamos la función type\n",
    "type(texto)"
   ]
  },
  {
   "cell_type": "code",
   "execution_count": null,
   "metadata": {
    "colab": {
     "base_uri": "https://localhost:8080/",
     "height": 35
    },
    "colab_type": "code",
    "id": "9Q_63bmxrVbX",
    "outputId": "7895f229-3cc0-4534-e9b9-39e5f96d8aad"
   },
   "outputs": [],
   "source": [
    "type(texto1)"
   ]
  },
  {
   "cell_type": "code",
   "execution_count": null,
   "metadata": {
    "colab": {
     "base_uri": "https://localhost:8080/",
     "height": 35
    },
    "colab_type": "code",
    "id": "jyuKl5HHrg3U",
    "outputId": "0650d781-584d-4a3c-ab98-b6e1c6a36252"
   },
   "outputs": [],
   "source": [
    "type(texto2)"
   ]
  },
  {
   "cell_type": "code",
   "execution_count": null,
   "metadata": {
    "colab": {
     "base_uri": "https://localhost:8080/",
     "height": 35
    },
    "colab_type": "code",
    "id": "lK994FW1rk6t",
    "outputId": "dfbaadf1-dc49-4455-cbcb-53f61099e9e4"
   },
   "outputs": [],
   "source": [
    "type(int)"
   ]
  },
  {
   "cell_type": "code",
   "execution_count": null,
   "metadata": {
    "colab": {
     "base_uri": "https://localhost:8080/",
     "height": 35
    },
    "colab_type": "code",
    "id": "u0nxwtVcr7p0",
    "outputId": "8d506f77-3f11-4a40-bb0e-084947a44907"
   },
   "outputs": [],
   "source": [
    "type(dir)"
   ]
  },
  {
   "cell_type": "code",
   "execution_count": null,
   "metadata": {
    "colab": {
     "base_uri": "https://localhost:8080/",
     "height": 55
    },
    "colab_type": "code",
    "id": "cs56WJGfsAX8",
    "outputId": "98cf4d1a-58b4-462d-c5e8-0bb2d01c4f70"
   },
   "outputs": [],
   "source": [
    "texto1*texto2"
   ]
  },
  {
   "cell_type": "code",
   "execution_count": null,
   "metadata": {
    "colab": {
     "base_uri": "https://localhost:8080/",
     "height": 187
    },
    "colab_type": "code",
    "id": "IdRa4StOsQ_0",
    "outputId": "245f24a4-e40a-454e-896d-432ba9286d60"
   },
   "outputs": [],
   "source": [
    "#texto1+texto2"
   ]
  },
  {
   "cell_type": "code",
   "execution_count": null,
   "metadata": {
    "colab": {
     "base_uri": "https://localhost:8080/",
     "height": 35
    },
    "colab_type": "code",
    "id": "lwwVGKtnsWzs",
    "outputId": "8b126882-7ee6-41fc-be57-8ed3e2d63dae"
   },
   "outputs": [],
   "source": [
    "texto1+str(texto2)"
   ]
  },
  {
   "cell_type": "code",
   "execution_count": null,
   "metadata": {
    "colab": {},
    "colab_type": "code",
    "id": "rHCrSjN6shQ7"
   },
   "outputs": [],
   "source": [
    "a=3"
   ]
  },
  {
   "cell_type": "code",
   "execution_count": null,
   "metadata": {
    "colab": {},
    "colab_type": "code",
    "id": "2KBAoCdqs-x6"
   },
   "outputs": [],
   "source": [
    "b=4"
   ]
  },
  {
   "cell_type": "code",
   "execution_count": null,
   "metadata": {
    "colab": {},
    "colab_type": "code",
    "id": "IcSSVhBjtAHq"
   },
   "outputs": [],
   "source": [
    "c=(a**2+b**2)**0.5"
   ]
  },
  {
   "cell_type": "code",
   "execution_count": null,
   "metadata": {
    "colab": {
     "base_uri": "https://localhost:8080/",
     "height": 35
    },
    "colab_type": "code",
    "id": "OtWp5lHItEaC",
    "outputId": "c9de388c-3c30-4265-ac5b-96d0bae448ea"
   },
   "outputs": [],
   "source": [
    "c"
   ]
  },
  {
   "cell_type": "code",
   "execution_count": null,
   "metadata": {
    "colab": {
     "base_uri": "https://localhost:8080/",
     "height": 35
    },
    "colab_type": "code",
    "id": "QbxIsPMUtFGq",
    "outputId": "1f3fea40-8d19-4da1-9cdf-25fde71183cf"
   },
   "outputs": [],
   "source": [
    "texto3=input(\"Ingresa tu nombre:\")"
   ]
  },
  {
   "cell_type": "code",
   "execution_count": null,
   "metadata": {
    "colab": {
     "base_uri": "https://localhost:8080/",
     "height": 35
    },
    "colab_type": "code",
    "id": "O3PDRaeSvdWb",
    "outputId": "4863059e-28ba-4418-9604-9116e30834e8"
   },
   "outputs": [],
   "source": [
    "texto3"
   ]
  },
  {
   "cell_type": "code",
   "execution_count": null,
   "metadata": {
    "colab": {
     "base_uri": "https://localhost:8080/",
     "height": 35
    },
    "colab_type": "code",
    "id": "6wGkEaLOwCXJ",
    "outputId": "e941acdf-167f-4bed-976a-67e6d9ae6e60"
   },
   "outputs": [],
   "source": [
    "type(texto3)"
   ]
  },
  {
   "cell_type": "code",
   "execution_count": null,
   "metadata": {},
   "outputs": [],
   "source": [
    "var1=10\n",
    "var2=5.6\n",
    "var3=\"Hola\"\n",
    "var4=True\n",
    "\n",
    "print(var1)\n",
    "print(var2)\n",
    "print(var3)\n",
    "print(var4)"
   ]
  },
  {
   "cell_type": "code",
   "execution_count": null,
   "metadata": {
    "colab": {
     "base_uri": "https://localhost:8080/",
     "height": 87
    },
    "colab_type": "code",
    "id": "Q84q3xO-wP4H",
    "outputId": "73f6435d-132f-42c1-f34c-c8db18420289"
   },
   "outputs": [],
   "source": [
    "nombre=input(\"Escribe tu nombre:\")\n",
    "apellido1=input(\"Escribe tu apellido paterno:\")\n",
    "apellido2=input(\"Escribe tu apellido materno:\")\n",
    "edad=input(\"Indica tu edad:\")"
   ]
  },
  {
   "cell_type": "code",
   "execution_count": null,
   "metadata": {
    "colab": {
     "base_uri": "https://localhost:8080/",
     "height": 35
    },
    "colab_type": "code",
    "id": "7szbaffswitw",
    "outputId": "7e88a078-b141-415b-93af-46f2314c583a"
   },
   "outputs": [],
   "source": [
    "nombre_completo=nombre+\" \"+apellido1+\" \"+apellido2\n",
    "nombre_completo"
   ]
  },
  {
   "cell_type": "code",
   "execution_count": null,
   "metadata": {
    "colab": {},
    "colab_type": "code",
    "id": "8RQl5ye6w-A3"
   },
   "outputs": [],
   "source": [
    "# nombre completo y edad\n",
    "nombre_edad=nombre_completo+\" \"+str(edad)"
   ]
  },
  {
   "cell_type": "code",
   "execution_count": null,
   "metadata": {
    "colab": {
     "base_uri": "https://localhost:8080/",
     "height": 35
    },
    "colab_type": "code",
    "id": "1jCR_4bMyB8M",
    "outputId": "9a77b4b9-8070-46d7-97ac-cef395938755"
   },
   "outputs": [],
   "source": [
    "nombre_edad"
   ]
  },
  {
   "cell_type": "code",
   "execution_count": null,
   "metadata": {
    "colab": {},
    "colab_type": "code",
    "id": "rfm5QETCyC9c"
   },
   "outputs": [],
   "source": [
    "print(nombre,apellido1,apellido2,edad)"
   ]
  },
  {
   "cell_type": "code",
   "execution_count": null,
   "metadata": {},
   "outputs": [],
   "source": [
    "datos=nombre,apellido1,apellido2,edad\n",
    "datos"
   ]
  },
  {
   "cell_type": "code",
   "execution_count": null,
   "metadata": {},
   "outputs": [],
   "source": [
    "type(datos)"
   ]
  },
  {
   "cell_type": "code",
   "execution_count": null,
   "metadata": {},
   "outputs": [],
   "source": [
    "type(nombre_edad)"
   ]
  },
  {
   "cell_type": "markdown",
   "metadata": {
    "colab_type": "text",
    "id": "BgRYq53osq7W"
   },
   "source": [
    "# Ejercicio"
   ]
  },
  {
   "cell_type": "code",
   "execution_count": null,
   "metadata": {
    "colab": {},
    "colab_type": "code",
    "id": "TgNJz3bVsq7X"
   },
   "outputs": [],
   "source": [
    "\"\"\"\n",
    "Usted tiene 50 pesos en el bolsillo, necesita comprar 3 artículos\n",
    "Un café, galletas y papas para soportar el hambre\n",
    "\"\"\"\n",
    "mi_dinero = 50\n",
    "\n",
    "# Asigne el valor de 24 pesos al café, 12 a las galletas y 13 a las papas\n",
    "cafe=\n",
    "papas=\n",
    "galletas="
   ]
  },
  {
   "cell_type": "code",
   "execution_count": null,
   "metadata": {},
   "outputs": [],
   "source": [
    "cafe, papas, galletas"
   ]
  },
  {
   "cell_type": "code",
   "execution_count": null,
   "metadata": {
    "colab": {},
    "colab_type": "code",
    "id": "rqPJbLMGsq7Y"
   },
   "outputs": [],
   "source": [
    "# Imprima el valor de los 3 artículos de la forma \n",
    "# print('artículo=', variable)\n"
   ]
  },
  {
   "cell_type": "code",
   "execution_count": null,
   "metadata": {
    "colab": {},
    "colab_type": "code",
    "id": "oVutwTjxsq7d"
   },
   "outputs": [],
   "source": [
    "# Imprima la resta de cada artículo al dinero que tiene\n"
   ]
  },
  {
   "cell_type": "code",
   "execution_count": null,
   "metadata": {
    "colab": {},
    "colab_type": "code",
    "id": "LadKOUM-sq7f"
   },
   "outputs": [],
   "source": [
    "# Imprima cuanto le quedaría si solo compra café y galletas\n"
   ]
  },
  {
   "cell_type": "code",
   "execution_count": null,
   "metadata": {
    "colab": {},
    "colab_type": "code",
    "id": "VTHuPyMWsq7i"
   },
   "outputs": [],
   "source": [
    "# Concatenación:\n",
    "\n",
    "cad = \"Vehículo\"\n",
    "num = 250\n",
    "\n",
    "print(cad + num)"
   ]
  },
  {
   "cell_type": "markdown",
   "metadata": {
    "colab_type": "text",
    "id": "9BrJyzKTMcrg"
   },
   "source": [
    "# Accediendo a secciones de un valor (slice)"
   ]
  },
  {
   "cell_type": "code",
   "execution_count": 5,
   "metadata": {
    "colab": {},
    "colab_type": "code",
    "id": "yEGPJC-DMcrg",
    "outputId": "671d9a96-b710-42de-b600-262b81c8dbec"
   },
   "outputs": [
    {
     "data": {
      "text/plain": [
       "'!'"
      ]
     },
     "execution_count": 5,
     "metadata": {},
     "output_type": "execute_result"
    }
   ],
   "source": [
    "cadena=\"Hola Mundo!\"\n",
    "cadena[10]"
   ]
  },
  {
   "cell_type": "code",
   "execution_count": null,
   "metadata": {
    "colab": {},
    "colab_type": "code",
    "id": "xZWIkjmiMcrh",
    "outputId": "6c7b20c8-0166-438d-8dcf-21cba8ea5ef9"
   },
   "outputs": [],
   "source": [
    "# El primer valor corresponde a la posición indexada, mientras que el segundo al número de elementos.\n",
    "cadena[0:4]"
   ]
  },
  {
   "cell_type": "code",
   "execution_count": null,
   "metadata": {
    "colab": {},
    "colab_type": "code",
    "id": "SeCUX0dUMcrj",
    "outputId": "e44ea45d-fe41-40a5-cbd1-af4d7e532965"
   },
   "outputs": [],
   "source": [
    "cadena[5:11]"
   ]
  },
  {
   "cell_type": "code",
   "execution_count": null,
   "metadata": {
    "colab": {},
    "colab_type": "code",
    "id": "xgOkP1mtMcrl",
    "outputId": "34432839-563f-46c3-9ead-2011b3956233"
   },
   "outputs": [],
   "source": [
    "# A partir de la posición indexada 5, se traeran todos los caracteres hasta el final de la cadena.\n",
    "cadena[5:]"
   ]
  },
  {
   "cell_type": "code",
   "execution_count": null,
   "metadata": {
    "colab": {},
    "colab_type": "code",
    "id": "0lhmF3C_Mcrm",
    "outputId": "9654c006-2cbc-40c8-a38e-b6d1a79a8220"
   },
   "outputs": [],
   "source": [
    "# Desde el inicio de la cadena, se traeran los caracteres hasta el número 4.\n",
    "cadena[:4]"
   ]
  },
  {
   "cell_type": "code",
   "execution_count": null,
   "metadata": {
    "colab": {},
    "colab_type": "code",
    "id": "k7GzcuLoMcrn",
    "outputId": "29618427-6050-45ab-c567-e598296d9eec"
   },
   "outputs": [],
   "source": [
    "print(cadena[:4]+\" a todos!\")"
   ]
  },
  {
   "cell_type": "code",
   "execution_count": 6,
   "metadata": {
    "colab": {},
    "colab_type": "code",
    "id": "ltDnHvTgMcrr",
    "outputId": "05ed64ce-b861-44fa-9ca0-2073c2d5ee32"
   },
   "outputs": [
    {
     "name": "stdout",
     "output_type": "stream",
     "text": [
      "Adios Mundo cruel :(\n"
     ]
    }
   ],
   "source": [
    "print(\"Adios \" + cadena[5:10] + \" cruel :(\")"
   ]
  },
  {
   "cell_type": "code",
   "execution_count": 8,
   "metadata": {
    "colab": {},
    "colab_type": "code",
    "id": "9dgyUQLAMcrs",
    "outputId": "b24e5cd3-32ae-42d3-8074-316d13a358cf"
   },
   "outputs": [
    {
     "data": {
      "text/plain": [
       "'d'"
      ]
     },
     "execution_count": 8,
     "metadata": {},
     "output_type": "execute_result"
    }
   ],
   "source": [
    "# Solo el último caracter\n",
    "cadena[-3]"
   ]
  },
  {
   "cell_type": "code",
   "execution_count": null,
   "metadata": {
    "colab": {},
    "colab_type": "code",
    "id": "meb1pGgvMcrt",
    "outputId": "4f0d030f-9930-4785-d765-d69b342d9caf"
   },
   "outputs": [],
   "source": [
    "#Todo, excepto el último caracter\n",
    "cadena[:-1]"
   ]
  },
  {
   "cell_type": "code",
   "execution_count": null,
   "metadata": {
    "colab": {},
    "colab_type": "code",
    "id": "mGGmr0evMcru",
    "outputId": "fe1374cd-d394-4f2f-840f-921f64fb7763"
   },
   "outputs": [],
   "source": [
    "cadena[:-1]+cadena[-1]"
   ]
  },
  {
   "cell_type": "code",
   "execution_count": null,
   "metadata": {
    "colab": {},
    "colab_type": "code",
    "id": "45WrEeXYMcrv"
   },
   "outputs": [],
   "source": [
    "lista=diccionario[\"listas\"]"
   ]
  },
  {
   "cell_type": "code",
   "execution_count": null,
   "metadata": {
    "colab": {},
    "colab_type": "code",
    "id": "pdMQKoLFMcrw",
    "outputId": "fed84cad-bb67-4851-f3e6-ba46cae9bc07"
   },
   "outputs": [],
   "source": [
    "lista[0:2]"
   ]
  },
  {
   "cell_type": "code",
   "execution_count": null,
   "metadata": {
    "colab": {},
    "colab_type": "code",
    "id": "mvpRydOuMcrz",
    "outputId": "a5678744-eeef-4024-a36f-85e01f1019f2"
   },
   "outputs": [],
   "source": [
    "lista[-1]"
   ]
  },
  {
   "cell_type": "code",
   "execution_count": null,
   "metadata": {
    "colab": {},
    "colab_type": "code",
    "id": "R2GVLW8WMcr0",
    "outputId": "bda4365d-35a5-4f2c-ae00-3c18e20501df"
   },
   "outputs": [],
   "source": [
    "lista[:-1]"
   ]
  },
  {
   "cell_type": "code",
   "execution_count": null,
   "metadata": {
    "colab": {},
    "colab_type": "code",
    "id": "ko_AdoTqMcr1"
   },
   "outputs": [],
   "source": [
    "# Esta forma de obtener subsets de información de strings, tuplas y listas no es valido para diccionarios\n",
    "#diccionario[0:2]"
   ]
  },
  {
   "cell_type": "code",
   "execution_count": null,
   "metadata": {},
   "outputs": [],
   "source": []
  },
  {
   "cell_type": "markdown",
   "metadata": {
    "colab_type": "text",
    "id": "XiRqPEa_pl5S"
   },
   "source": [
    "# Funciones preprogramadas en Python"
   ]
  },
  {
   "cell_type": "markdown",
   "metadata": {
    "colab_type": "text",
    "id": "_759cOZXpl5S"
   },
   "source": [
    "Python contiene en total 68 funciones preprogramadas listas para ser utilizadas en cualquier tipo de código. El listado completo se presenta a continuación, las funciones marcadas en **rojo** son aquellas funciones que ya se trabajaron o que se utilizarán en el curso:"
   ]
  },
  {
   "cell_type": "markdown",
   "metadata": {
    "colab_type": "text",
    "id": "fh6x_iACpl5S"
   },
   "source": [
    "<H1 align=\"center\"> Built - in Fucntions </H1>\n",
    "<table>\n",
    "  <tr>\n",
    "    <td><p style=\"color:#17202A  \";>abs()</td>\n",
    "    <td><p style=\"color:#17202A  \";>dict()</td>\n",
    "    <td><b><p style=\"color:#FF0000 \";>help()</p></b></td>\n",
    "    <td><p style=\"color:#17202A  \";>min()</td>\n",
    "    <td><b><p style=\"color:#FF0000\";>setattr()</p></b></td>\n",
    "  </tr>\n",
    "  <tr>\n",
    "    <td><p style=\"color:#17202A  \";>all()</td>\n",
    "    <td><b><p style=\"color:#FF0000\";>dir()</p></b></td>\n",
    "    <td><p style=\"color:#17202A  \";>hex()</td>\n",
    "    <td><p style=\"color:#17202A  \";>next()</td>\n",
    "    <td><b><p style=\"color:#FF0000\";>slice()</p></b></td>\n",
    "  </tr>\n",
    "  <tr>\n",
    "    <td><p style=\"color:#17202A  \";>any()</td>\n",
    "    <td><p style=\"color:#17202A  \";>divmon()</td>\n",
    "    <td><p style=\"color:#17202A  \";>id()</td>\n",
    "    <td><b><p style=\"color:#FF0000\";>object()</p></b></td>\n",
    "    <td><b><p style=\"color:#FF0000\";>sorted()</p></b></td>\n",
    "  </tr>\n",
    "  <tr>\n",
    "    <td><p style=\"color:#17202A  \";>ascii()</td>\n",
    "    <td><p style=\"color:#17202A  \";>enumerate()</td>\n",
    "    <td><b><p style=\"color:#FF0000\";>input()</p></b></td>\n",
    "    <td><p style=\"color:#17202A  \";>oct()</td>\n",
    "    <td>staticmethod()</td>\n",
    "  </tr>\n",
    "  <tr>\n",
    "    <td><p style=\"color:#17202A  \";>bin()</td>\n",
    "    <td><p style=\"color:#17202A  \";>eval()</td>\n",
    "    <td><b><p style=\"color:#FF0000\";>int()</p></b></td>\n",
    "    <td><p style=\"color:#17202A  \";>open()</td>\n",
    "    <td><b><p style=\"color:#FF0000\";>str()</p></b></td>\n",
    "  </tr>\n",
    "  <tr>\n",
    "    <td><b><p style=\"color:#FF0000\";>bool()</p></b></td>\n",
    "    <td><p style=\"color:#17202A  \";>exec()</td>\n",
    "    <td><b><p style=\"color:#FF0000\";>isinstance()</p></b></td>\n",
    "    <td><p style=\"color:#17202A  \";>ord()</td>\n",
    "    <td><b><p style=\"color:#FF0000\";>sum()</p></b></td>\n",
    "  </tr>\n",
    "  <tr>\n",
    "    <td><p style=\"color:#17202A  \";>bytearray()</td>\n",
    "    <td><p style=\"color:#17202A  \";>filter()</td>\n",
    "    <td><b><p style=\"color:#FF0000\";>issubclass()</p></b></td>\n",
    "    <td><p style=\"color:#17202A  \";>pow()</td>\n",
    "    <td><b><p style=\"color:#FF0000\";>super()</p></b></td>\n",
    "  </tr>\n",
    "  <tr>\n",
    "    <td><p style=\"color:#17202A  \";>bytes()</td>\n",
    "    <td><b><p style=\"color:#FF0000\";>float()</p></b></td>\n",
    "    <td><p style=\"color:#17202A  \";>iter()</td>\n",
    "    <td><b><p style=\"color:#FF0000\";>print()</p></b></td>\n",
    "    <td><p style=\"color:#17202A  \";>tuple()</td>\n",
    "  </tr>\n",
    "  <tr>\n",
    "    <td><p style=\"color:#17202A  \";>callable()</td>\n",
    "    <td><p style=\"color:#17202A  \";>format()</td>\n",
    "    <td><b><p style=\"color:#FF0000\";>len()</p></b></td>\n",
    "    <td><p style=\"color:#17202A  \";>property()</td>\n",
    "    <td><b><p style=\"color:#FF0000\";>type()</p></b></td>\n",
    "  </tr>\n",
    "  <tr>\n",
    "    <td><p style=\"color:#17202A  \";>chr()</td>\n",
    "    <td><p style=\"color:#17202A  \";>frozenset()</td>\n",
    "    <td><p style=\"color:#17202A  \";>list()</td>\n",
    "    <td><b><p style=\"color:#FF0000\";>range()</p></b></td>\n",
    "    <td><b><p style=\"color:#FF0000\";>vars()</p></b></td>\n",
    "  </tr>\n",
    "  <tr>\n",
    "    <td><p style=\"color:#17202A  \";>classmethod()</td>\n",
    "    <td><b><p style=\"color:#FF0000\";>getattr()</p></b></td>\n",
    "    <td><p style=\"color:#17202A  \";>locals()</td>\n",
    "    <td><p style=\"color:#17202A  \";>repr()</td>\n",
    "    <td><p style=\"color:#17202A  \";>zip()</td>\n",
    "  </tr>\n",
    "  <tr>\n",
    "    <td><p style=\"color:#17202A  \";>compile()</td>\n",
    "    <td><p style=\"color:#17202A  \";>globals()</td>\n",
    "    <td><p style=\"color:#17202A  \";>map()</td>\n",
    "    <td><b><p style=\"color:#FF0000\";>reversed()</p></b></td>\n",
    "    <td><p style=\"color:#17202A  \";>__import__()</td>\n",
    "  </tr>\n",
    "  <tr>\n",
    "    <td><p style=\"color:#17202A  \";>complex()</td>\n",
    "    <td><b><p style=\"color:#FF0000\";>hasattr()</p></b></td>\n",
    "    <td><b><p style=\"color:#FF0000\";>max()</p></b></td>\n",
    "    <td><b><p style=\"color:#FF0000\";>round()</p></b></td>\n",
    "    <td></td>\n",
    "  </tr>\n",
    "  <tr>\n",
    "    <td><b><p style=\"color:#FF0000\";>delattr()</p></b></td>\n",
    "    <td><p style=\"color:#17202A  \";>hash()</td>\n",
    "    <td><p style=\"color:#17202A  \";>memoryview()</td>\n",
    "    <td><b><p style=\"color:#FF0000\";>set()</p></b></td>\n",
    "    <td></td>\n",
    "  </tr>\n",
    "</table>"
   ]
  },
  {
   "cell_type": "markdown",
   "metadata": {
    "colab_type": "text",
    "id": "TVy0EYMWpl5T"
   },
   "source": [
    "# If, Elif, Else"
   ]
  },
  {
   "cell_type": "markdown",
   "metadata": {
    "colab_type": "text",
    "id": "rKh2nEjXpl5T"
   },
   "source": [
    "--------------------------------------------------------------------------------------------------------------------------\n",
    "\n",
    "                                 If Condición_1:\n",
    "                                     instrucion(es)\n",
    "                                     print ó return\n",
    "                                 elif Condición_2:     \"Todos los elif son opcionales\"\n",
    "                                     instrucion(es)\n",
    "                                     print ó return\n",
    "                                 elif Condición_n:\n",
    "                                     ...........\n",
    "                                     ...........\n",
    "                                 else:\n",
    "                                     instrucciones para el resto de posibilidades\n",
    "                                 \n",
    "\n",
    "--------------------------------------------------------------------------------------------------------------------------"
   ]
  },
  {
   "cell_type": "markdown",
   "metadata": {
    "colab_type": "text",
    "id": "u_aw-2lMpl5U"
   },
   "source": [
    "Programa que solicita 2 números y determina cual es mayor:"
   ]
  },
  {
   "cell_type": "code",
   "execution_count": null,
   "metadata": {
    "colab": {},
    "colab_type": "code",
    "id": "NAUIa-wgpl5V",
    "outputId": "c524e27a-e2cb-4f35-d211-4dac85b6a438"
   },
   "outputs": [],
   "source": [
    "a=int(input(\"Indica un número entero: \"))\n",
    "b=int(input(\"Indica un número entero: \"))\n",
    "if a>b:\n",
    "    print(\"El primero número es mayor\")\n",
    "else:\n",
    "    print(\"El segundo número es mayor\")"
   ]
  },
  {
   "cell_type": "markdown",
   "metadata": {
    "colab_type": "text",
    "id": "5SYHQx_wpl5X"
   },
   "source": [
    "Programa que solicita 2 números y determina cual es mayor, tambien considerando que puedan ser iguales:"
   ]
  },
  {
   "cell_type": "code",
   "execution_count": null,
   "metadata": {
    "colab": {},
    "colab_type": "code",
    "id": "MrKuUCMapl5X",
    "outputId": "8edf59c6-0ac2-4b62-c62b-29185acf2f51"
   },
   "outputs": [],
   "source": [
    "a=int(input(\"Indica un número entero: \"))\n",
    "b=int(input(\"Indica un número entero: \"))\n",
    "if a>b:\n",
    "    print(\"El primero número es mayor\")\n",
    "elif a==b:\n",
    "    print(\"Los dos números son iguales\")\n",
    "else:\n",
    "    print(\"El segundo número es mayor\")"
   ]
  },
  {
   "cell_type": "markdown",
   "metadata": {
    "colab_type": "text",
    "id": "rCyDZK2Wpl5a"
   },
   "source": [
    "Programa que solicita 3 números y los ordena:"
   ]
  },
  {
   "cell_type": "markdown",
   "metadata": {
    "colab_type": "text",
    "id": "7XExfqZEMcsM"
   },
   "source": [
    "### Operadores lógicos: and"
   ]
  },
  {
   "cell_type": "code",
   "execution_count": null,
   "metadata": {
    "colab": {},
    "colab_type": "code",
    "id": "V_etEi3sMcsM"
   },
   "outputs": [],
   "source": [
    "a = int(input())\n",
    "b = int(input())\n",
    "c = int(input())\n",
    "if a > b and c > a:\n",
    "    print(\"Ambas condiciones son verdaderas\")"
   ]
  },
  {
   "cell_type": "markdown",
   "metadata": {
    "colab_type": "text",
    "id": "Qa2cNHT4McsN"
   },
   "source": [
    "### Operadores lógicos: or"
   ]
  },
  {
   "cell_type": "code",
   "execution_count": null,
   "metadata": {
    "colab": {},
    "colab_type": "code",
    "id": "I8VfAayrMcsN",
    "outputId": "00d14984-26ea-464e-9f6b-88e232e1decc"
   },
   "outputs": [],
   "source": [
    "a = int(input())\n",
    "b = int(input())\n",
    "c = int(input())\n",
    "if a > b or c > a:\n",
    "    print(\"Por lo menos alguna de las condiciones es verdadera\")"
   ]
  },
  {
   "cell_type": "markdown",
   "metadata": {
    "colab_type": "text",
    "id": "lM7cDCIbMcsO"
   },
   "source": [
    "### If anidado"
   ]
  },
  {
   "cell_type": "code",
   "execution_count": null,
   "metadata": {
    "colab": {},
    "colab_type": "code",
    "id": "a62390itMcsP",
    "outputId": "7310f0d5-87af-4ab0-af2a-eb36a079ad8f"
   },
   "outputs": [],
   "source": [
    "x = int(input())\n",
    "\n",
    "if x > 10:\n",
    "    print(\"Mayor que diez, \")\n",
    "    if x > 20:\n",
    "        print(\"y también mayor que 20!\")\n",
    "    else:\n",
    "        print(\"pero no mayor que 20.\")\n",
    "else:\n",
    "    print(\"No es mayor a diez.\")"
   ]
  },
  {
   "cell_type": "code",
   "execution_count": null,
   "metadata": {
    "colab": {},
    "colab_type": "code",
    "id": "5wKYnjPypl5a",
    "outputId": "68db288b-6579-4b04-e2a3-ef028d5e858a",
    "scrolled": true
   },
   "outputs": [],
   "source": [
    "a=int(input(\"Indica un número entero: \"))\n",
    "b=int(input(\"Indica un número entero: \"))\n",
    "c=int(input(\"Indica un número entero: \"))\n",
    "\n",
    "if a>b and b>c:\n",
    "    print(\"De mayor a menor son: \",a,b,c)\n",
    "elif a>b and c>b:\n",
    "    print(\"De mayor a menor son: \",a,c,b)\n",
    "elif b>c and c>a:\n",
    "    print(\"De mayor a menor son: \",b,c,a)\n",
    "else:\n",
    "    print(\"El segundo número es mayor\")"
   ]
  },
  {
   "cell_type": "markdown",
   "metadata": {
    "colab_type": "text",
    "id": "5HrFLHAEpl5c"
   },
   "source": [
    "### Actividad"
   ]
  },
  {
   "cell_type": "markdown",
   "metadata": {
    "colab_type": "text",
    "id": "OXNFVjObpl5c"
   },
   "source": [
    "Desarrolle los siguientes programas:\n",
    "\n",
    "Un programa que solicite 3 números enteros, verifique si son diferentes entre ellos, en caso de que dos de los números sean iguales, el programa no realizará ninguna actividad. Si los 3 son diferentes, los ordenará de menor a mayor, y calculará su promedio."
   ]
  },
  {
   "cell_type": "markdown",
   "metadata": {
    "colab_type": "text",
    "id": "FwgTlTZgpl5d"
   },
   "source": [
    "<img src=\"img\\spyder.png\" alt=\"Spyder\" width=\"300\"/>"
   ]
  },
  {
   "cell_type": "code",
   "execution_count": null,
   "metadata": {
    "colab": {},
    "colab_type": "code",
    "id": "6WC9WPyUpl5d",
    "outputId": "e8e80d5e-cad8-47c1-9ada-11050c4929a1"
   },
   "outputs": [],
   "source": [
    "# Solicitud de los 3 números\n",
    "\n",
    "a=int(input())\n",
    "b=int(input())\n",
    "c=int(input())\n",
    "\n",
    "# Operadores lógicos\n",
    "# Verificación de que los números sean diferentes:\n",
    "\n",
    "if a==b or a==c or b==c:\n",
    "    print(\"Los 3 números deben de ser diferentes\")\n",
    "    \n",
    "# Selección de la combinación de los números:\n",
    "else:\n",
    "    # El promedio se calcula 1 vez ya que no importa el orden de los números\n",
    "    promedio=(a+b+c)/3\n",
    "    if a>b and b>c:\n",
    "        print(\"\\nLos números de mayor a menor son: \", a, b, c,\"\\nSu promedio es :\", promedio)\n",
    "    elif a>c and c>b:\n",
    "        print(\"\\nLos números de mayor a menor son: \", a, c, b,\"\\nSu promedio es :\", promedio)\n",
    "    elif b>c and c>a:\n",
    "        print(\"\\nLos números de mayor a menor son: \", b, c, a,\"\\nSu promedio es :\", promedio)\n",
    "    elif b>a and a>c:\n",
    "        print(\"\\nLos números de mayor a menor son: \", b, a, c,\"\\nSu promedio es :\", promedio)\n",
    "    elif c>a and a>b:\n",
    "        print(\"\\nLos números de mayor a menor son: \", c, a, b,\"\\nSu promedio es :\", promedio)\n",
    "    elif c>b and b>a:\n",
    "        print(\"\\nLos números de mayor a menor son: \", c, b, a,\"\\nSu promedio es :\", promedio)"
   ]
  },
  {
   "cell_type": "markdown",
   "metadata": {
    "colab_type": "text",
    "id": "-GYCMWJMpl5i"
   },
   "source": [
    "# For"
   ]
  },
  {
   "cell_type": "markdown",
   "metadata": {},
   "source": [
    "Para poder entender el ciclo **For**, es necesario entender el método **Range**:"
   ]
  },
  {
   "cell_type": "markdown",
   "metadata": {
    "colab_type": "text",
    "id": "fKaigBCiMcsR"
   },
   "source": [
    "Sintaxis:\n",
    "\n",
    "--------------------------------------------------------------------------------------------------------------------------\n",
    "\n",
    "                                      range( [inicio,] límite [, salto])\n",
    "\n",
    "--------------------------------------------------------------------------------------------------------------------------"
   ]
  },
  {
   "cell_type": "markdown",
   "metadata": {
    "colab_type": "text",
    "id": "FEQdT4UjMcsR"
   },
   "source": [
    "*Nota: El valor límite corresponde al valor indexado, mientras que los parametros inicio, y salto son opcionales.*"
   ]
  },
  {
   "cell_type": "code",
   "execution_count": null,
   "metadata": {
    "colab": {},
    "colab_type": "code",
    "id": "h78vM0-aMcsS",
    "outputId": "1220ab1d-c2b8-42b8-e533-8b095691a5f7"
   },
   "outputs": [],
   "source": [
    "list(range(5))"
   ]
  },
  {
   "cell_type": "code",
   "execution_count": null,
   "metadata": {
    "colab": {},
    "colab_type": "code",
    "id": "ZUwdL5stMcsW",
    "outputId": "b2e91572-1b39-41e3-d7da-ea0284b7dfb3"
   },
   "outputs": [],
   "source": [
    "list(range(5,10))"
   ]
  },
  {
   "cell_type": "markdown",
   "metadata": {
    "colab_type": "text",
    "id": "yJkK9XAJpl5j"
   },
   "source": [
    "--------------------------------------------------------------------------------------------------------------------------\n",
    "\n",
    "                                 For variable in contador:\n",
    "                                     instrucion(es)\n",
    "                                 else (opcional):\n",
    "                                     instrucciones para realizar solo al término del ciclo\n",
    "                                 \n",
    "\n",
    "--------------------------------------------------------------------------------------------------------------------------"
   ]
  },
  {
   "cell_type": "code",
   "execution_count": null,
   "metadata": {
    "colab": {},
    "colab_type": "code",
    "id": "5Y6wnWTFpl5n",
    "outputId": "8d3007af-8905-48dd-d8c5-7445107f1a29"
   },
   "outputs": [],
   "source": [
    "# Ciclo donde el número de repeticiones está marcado por el rango:\n",
    "for i in range(3):\n",
    "    print(\"Hola Mundo!\")"
   ]
  },
  {
   "cell_type": "code",
   "execution_count": null,
   "metadata": {
    "colab": {},
    "colab_type": "code",
    "id": "4We4SvTypl5o",
    "outputId": "a4acc287-ccf0-40bb-fcd6-652a012b241a"
   },
   "outputs": [],
   "source": [
    "# Ciclo donde el número de repeticiones está marcado por un inicio(indexado), y un final (no indexado):\n",
    "for i in range(1,3):\n",
    "    print(\"Hola Mundo!\")"
   ]
  },
  {
   "cell_type": "markdown",
   "metadata": {
    "colab_type": "text",
    "id": "D9jJBNifpl5p"
   },
   "source": [
    "En el ejemplo anterior, el rango indexado es 0, 1, 2. Solo llega hasta 2, puesto que se está pidiendo hacer la actividad 3 veces. Finalmente se pide que el ciclo empiece a escribir cuando la posición indexada sea 1, por ello solo da 2 impresiones como resultado. Esto se puede apreciar mejor si agregamos la impresión del valor indexado:"
   ]
  },
  {
   "cell_type": "code",
   "execution_count": null,
   "metadata": {
    "colab": {},
    "colab_type": "code",
    "id": "IKq_Z_iepl5q",
    "outputId": "0a45fda8-6d33-463a-e4dd-bc59d24cd1cc"
   },
   "outputs": [],
   "source": [
    "for i in range(1,3):\n",
    "    print(i,\"Hola Mundo!\")"
   ]
  },
  {
   "cell_type": "code",
   "execution_count": null,
   "metadata": {
    "colab": {},
    "colab_type": "code",
    "id": "AIXjglVdpl5r",
    "outputId": "8f72e91b-8107-4ab4-d9da-897e31893093"
   },
   "outputs": [],
   "source": [
    "for i in range(0,3):\n",
    "    print(i,\"Hola Mundo!\")"
   ]
  },
  {
   "cell_type": "code",
   "execution_count": null,
   "metadata": {
    "colab": {},
    "colab_type": "code",
    "id": "VUk3LBfypl5s",
    "outputId": "e336487c-18b5-45c1-ee43-496457ffd4ea"
   },
   "outputs": [],
   "source": [
    "# Este ciclo proporciona el mísmo resultado que el anterior, \n",
    "# ya que el parámetro de inicio es opcional, y de ser así, \n",
    "# siempre iniciará en la posición indexada de cero.\n",
    "\n",
    "for i in range(3):\n",
    "    print(i,\"Hola Mundo!\")"
   ]
  },
  {
   "cell_type": "code",
   "execution_count": null,
   "metadata": {
    "colab": {},
    "colab_type": "code",
    "id": "LBMqLBHfpl5u",
    "outputId": "86f48a6a-631a-4248-a79c-e1b1fadbb556"
   },
   "outputs": [],
   "source": [
    "# Ciclo for en el que se considera un salto de 5 en 5:\n",
    "for i in range(0,30,5):\n",
    "    print(i,\"Hola Mundo!\")"
   ]
  },
  {
   "cell_type": "markdown",
   "metadata": {
    "colab_type": "text",
    "id": "fUU2j4RVpl5v"
   },
   "source": [
    "--------------------------------------------------------------------------------------------------------------------------\n",
    "\n",
    "                         range( [inicio indexado opcional], repeticiones, [salto opcional])                                 \n",
    "\n",
    "--------------------------------------------------------------------------------------------------------------------------"
   ]
  },
  {
   "cell_type": "code",
   "execution_count": null,
   "metadata": {
    "colab": {},
    "colab_type": "code",
    "id": "wg1iLlYtpl5w",
    "outputId": "67faf4d1-1316-417d-9043-5ace20310ac6"
   },
   "outputs": [],
   "source": [
    "# Ejemplos ciclo for para números pares e impares:\n",
    "\n",
    "# Límite del ciclo\n",
    "a=50\n",
    "\n",
    "# Números pares\n",
    "for i in range(0,a,2):\n",
    "    print(i, end = \" \")\n",
    "\n",
    "# Espacios en la solución para distinguir ambas series\n",
    "print()\n",
    "print()\n",
    "\n",
    "# Números impares\n",
    "for i in range(1,a,2):\n",
    "    print(i, end = \" \")"
   ]
  },
  {
   "cell_type": "markdown",
   "metadata": {
    "colab_type": "text",
    "id": "RRkSNQF0pl5y"
   },
   "source": [
    "### Ejemplos"
   ]
  },
  {
   "cell_type": "markdown",
   "metadata": {
    "colab_type": "text",
    "id": "Sfhn1p8ppl5z"
   },
   "source": [
    "$$\\sum_{i=1}^{n}\\dfrac{1}{n}$$"
   ]
  },
  {
   "cell_type": "code",
   "execution_count": null,
   "metadata": {
    "colab": {},
    "colab_type": "code",
    "id": "5fEPq6iLpl51",
    "outputId": "77ff4000-a8a4-49cc-c2d6-82f93920961d"
   },
   "outputs": [],
   "source": [
    "n=10\n",
    "\n",
    "sumatoria=0\n",
    "\n",
    "for i in range(1,n+1):\n",
    "    if n==1:\n",
    "        sumatoria=1\n",
    "    else:\n",
    "        x=(1/i)\n",
    "        sumatoria=sumatoria +x\n",
    "print(sumatoria)"
   ]
  },
  {
   "cell_type": "markdown",
   "metadata": {
    "colab_type": "text",
    "id": "E15y34Rjpl53"
   },
   "source": [
    "$$\\sum_{i=0}^{n}x_{i}=\\dfrac{1}{2^n}=2$$"
   ]
  },
  {
   "cell_type": "code",
   "execution_count": null,
   "metadata": {
    "colab": {},
    "colab_type": "code",
    "id": "gDBGhofRpl54",
    "outputId": "b4b6e805-5845-4cde-c9e2-32f77d444c88"
   },
   "outputs": [],
   "source": [
    "n=100\n",
    "sumatoria=0\n",
    "\n",
    "for i in range(n):\n",
    "    x=(1/(2**i))\n",
    "    sumatoria=sumatoria +x\n",
    "print(sumatoria)"
   ]
  },
  {
   "cell_type": "markdown",
   "metadata": {
    "colab_type": "text",
    "id": "81Em1WHqpl55"
   },
   "source": [
    "$$\\sum_{i=0}^{n}x_{i}=\\dfrac{{(-1)}^{(n)}}{2^n}=\\dfrac{2}{3}$$"
   ]
  },
  {
   "cell_type": "code",
   "execution_count": null,
   "metadata": {
    "colab": {},
    "colab_type": "code",
    "id": "bYHn4nCWpl56",
    "outputId": "02859a67-1fa3-4d8d-8d04-251425bbc39d"
   },
   "outputs": [],
   "source": [
    "n=1000\n",
    "sumatoria=1\n",
    "\n",
    "for i in range(1,n):\n",
    "    x=(((-1)**(i))/(2**i))\n",
    "    sumatoria=sumatoria +x\n",
    "print(sumatoria)"
   ]
  },
  {
   "cell_type": "markdown",
   "metadata": {
    "colab_type": "text",
    "id": "ZA8_rJgSpl57"
   },
   "source": [
    "### Actividad"
   ]
  },
  {
   "cell_type": "markdown",
   "metadata": {
    "colab_type": "text",
    "id": "wqvTSt8Spl58"
   },
   "source": [
    "1. Desarrolle un programa que solicite un número N. Posteriormente el programa solicitara números aleatorios al usuario N veces. Por último, imprimirá 3 resultados:\n",
    "La suma de solo los números positivos\n",
    "La suma de solo los números negativos\n",
    "Indicará cuantas veces se ingresó el valor de cero.\n",
    "\n",
    "2. Construya un algoritmo que al recibir como dato un número entero positivo, escriba una figura como la que se muestra a continuación \n",
    "(ejemplo para n=5):\n",
    "\n",
    "1\n",
    "\n",
    "1 2\n",
    "\n",
    "1 2 3\n",
    "\n",
    "1 2 3 4\n",
    "\n",
    "1 2 3 4 5\n",
    "\n",
    "3. Construya un algoritmo que al recibir como dato un número entero positivo, escriba una figura como la que se muestra a continuación \n",
    "(ejemplo para n=4):\n",
    "\n",
    "         1\n",
    "          \n",
    "          \n",
    "        1 2 1\n",
    "                \n",
    "      1 2 3 2 1\n",
    "            \n",
    "    1 2 3 4 3 2 1"
   ]
  },
  {
   "cell_type": "markdown",
   "metadata": {
    "colab_type": "text",
    "id": "G-4pkyucpl58"
   },
   "source": [
    "<img src=\"img\\spyder.png\" alt=\"Spyder\" width=\"300\"/>"
   ]
  },
  {
   "cell_type": "code",
   "execution_count": null,
   "metadata": {
    "colab": {},
    "colab_type": "code",
    "id": "YA7ZfJzSpl59",
    "outputId": "7ce32fa3-f1db-44a0-e47c-9a36b3f7f422"
   },
   "outputs": [],
   "source": [
    "# Solicitud de datos:\n",
    "print(\"El siguiente programa solicitará un número N de veces un número aleatorio\")\n",
    "print(\"Indica un valor N: \")\n",
    "N=int(input())\n",
    "\n",
    "# Listas en las que se van a almacenar los valores de acuerdo a su categoría\n",
    "numeros=[]\n",
    "positivos=[]\n",
    "negativos=[]\n",
    "cero=[]\n",
    "\n",
    "# Ciclo For\n",
    "for i in range (N):\n",
    "    print(\"Introduce un valor:\")\n",
    "    valor=int(input())\n",
    "    numeros.append(valor)\n",
    "    if valor>0:\n",
    "        positivos.append(valor)\n",
    "    elif valor<0:\n",
    "        negativos.append(valor)\n",
    "    else:\n",
    "        cero.append(valor)\n",
    "print(\"\\nLa lista completa de números es: \\n\", numeros)\n",
    "print(\"\\nLa lista de números positivos es: \\n\", positivos, \"Su suma es: \", sum(positivos))\n",
    "print(\"\\nLa lista de números negativos es: \\n\", negativos, \"Su suma es: \", sum(negativos))\n",
    "print(\"\\nLa cantidad de ceros introducida es: \", cero.count(0))"
   ]
  },
  {
   "cell_type": "code",
   "execution_count": null,
   "metadata": {
    "colab": {},
    "colab_type": "code",
    "id": "d9YfRh8Dpl5_",
    "outputId": "0d482bcd-1a3c-4feb-d9e8-5d14c5605b00"
   },
   "outputs": [],
   "source": [
    "# Solicitud de datos:\n",
    "print(\"El siguiente programa al recibir como dato un número entero positivo, escribirá un triangulo de números.\")\n",
    "print(\"Indica un valor de altura del triángulo: \")\n",
    "altura=int(input())\n",
    "# Dejamos 2 espacios en blanco despues de la solicitud de datos:\n",
    "print()\n",
    "print()\n",
    "\n",
    "# Ciclo for ascendente de filas:\n",
    "for i in range(altura+1): # Range maneja posiciones indexadas, por ello agregamos un valor mas\n",
    "    # Ciclo for de columnas:\n",
    "    for j in range (1, i+1):\n",
    "        print(j, end = ' ')\n",
    "        if j==i:\n",
    "            print(\"\\n\")"
   ]
  },
  {
   "cell_type": "code",
   "execution_count": null,
   "metadata": {
    "colab": {},
    "colab_type": "code",
    "id": "kgcedNBipl6B",
    "outputId": "6700f3ed-05c1-47cc-beb9-8eff10ec9edd"
   },
   "outputs": [],
   "source": [
    "# Solicitud de datos:\n",
    "print(\"El siguiente programa al recibir como dato un número entero positivo, escribirá un triangulo de números.\")\n",
    "print(\"Indica un valor de altura del triángulo: \")\n",
    "altura=int(input())\n",
    "# Dejamos 2 espacios en blanco despues de la solicitud de datos:\n",
    "print()\n",
    "print()\n",
    "\n",
    "# Ciclo for:\n",
    "for i in range(1, altura+1): # Range maneja posiciones indexadas, por ello agregamos un valor mas\n",
    "    valor=1\n",
    "    \n",
    "    # La variable posición, nos indica el número de espacios en blanco a escribir\n",
    "    posicion=altura-i\n",
    "    # Ciclo for de columnas:\n",
    "    for j in range (1, altura+1):\n",
    "        # Escribe en númnero de espacios en blanco\n",
    "        if j<=posicion:\n",
    "            print(\" \", end = \" \")\n",
    "        \n",
    "        # Cuando se empiezan a escribir valores, es necesario verificar si es ascendente o descendente.\n",
    "        else:\n",
    "            # Instrucciones para descendente\n",
    "            if valor==i:\n",
    "                print(valor, end = \" \")\n",
    "                # Nueva variable contadora para los valores descendentes, es igual al nivel menos 1\n",
    "                valor2=valor-1\n",
    "                if valor2==0:\n",
    "                    print()\n",
    "                    break\n",
    "                for j2 in range(1,valor):\n",
    "                    print(valor2, end = \" \")\n",
    "                    valor2-=1\n",
    "                    if valor2==0:\n",
    "                        print()\n",
    "                        break\n",
    "            # Instrucciones para ascendente\n",
    "            else:\n",
    "                print(valor, end = \" \")\n",
    "                valor+=1"
   ]
  },
  {
   "cell_type": "markdown",
   "metadata": {
    "colab_type": "text",
    "id": "h-7Fz74Tpl6D"
   },
   "source": [
    "# While"
   ]
  },
  {
   "cell_type": "markdown",
   "metadata": {
    "colab_type": "text",
    "id": "VrUwndiXpl6E"
   },
   "source": [
    "--------------------------------------------------------------------------------------------------------------------------\n",
    "\n",
    "                                 while Condición:\n",
    "                                     instrucion(es)\n",
    "                                     print ó return\n",
    "\n",
    "--------------------------------------------------------------------------------------------------------------------------"
   ]
  },
  {
   "cell_type": "markdown",
   "metadata": {
    "colab_type": "text",
    "id": "9JajQA22lPjn"
   },
   "source": [
    "Con el ciclo **while**, se puede ejecutar una serie de instrucciones mientras que la condición indicada sea verdadera."
   ]
  },
  {
   "cell_type": "code",
   "execution_count": null,
   "metadata": {
    "colab": {},
    "colab_type": "code",
    "id": "madliu72kjZO"
   },
   "outputs": [],
   "source": [
    "i = 1\n",
    "while i < 6:\n",
    "    print(i)\n",
    "    i += 2"
   ]
  },
  {
   "cell_type": "markdown",
   "metadata": {
    "colab_type": "text",
    "id": "QibXxtzJlaUH"
   },
   "source": [
    "Al igual que el ciclo For, el ciclo **while** también permite el uso de los métodos **break** y **continue**"
   ]
  },
  {
   "cell_type": "code",
   "execution_count": null,
   "metadata": {
    "colab": {},
    "colab_type": "code",
    "id": "S9kTiLZ4lYzr"
   },
   "outputs": [],
   "source": [
    "i = 1\n",
    "while i < 6:\n",
    "    print(i)\n",
    "    if i == 3:\n",
    "        break\n",
    "    i += 1\n",
    "  "
   ]
  },
  {
   "cell_type": "code",
   "execution_count": null,
   "metadata": {
    "colab": {},
    "colab_type": "code",
    "id": "FXlHK-ZRlptX"
   },
   "outputs": [],
   "source": [
    "i = 0\n",
    "while i < 6:\n",
    "    i += 1 \n",
    "    if i == 3:\n",
    "        continue\n",
    "    print(i)"
   ]
  },
  {
   "cell_type": "markdown",
   "metadata": {
    "colab_type": "text",
    "id": "8qeqhNHZlNwQ"
   },
   "source": [
    "Ejemplo del uso del loop **While** para el cálculo de la serie Fibonacci"
   ]
  },
  {
   "cell_type": "code",
   "execution_count": null,
   "metadata": {
    "colab": {},
    "colab_type": "code",
    "id": "Og-ONzKEjko8"
   },
   "outputs": [],
   "source": [
    "a, b = 0,1\n",
    "while a < 100:\n",
    "    print(a) \n",
    "    a, b = b, a+b"
   ]
  },
  {
   "cell_type": "code",
   "execution_count": null,
   "metadata": {
    "colab": {},
    "colab_type": "code",
    "id": "e2uzIeRZpl6E",
    "outputId": "8541d114-caee-4aa6-9a9b-6e9165d29110"
   },
   "outputs": [],
   "source": [
    "i = 1\n",
    "while i <= 10:\n",
    "    print(i, \"^2 =\",i ** 2)\n",
    "    i += 1"
   ]
  },
  {
   "cell_type": "code",
   "execution_count": null,
   "metadata": {
    "colab": {},
    "colab_type": "code",
    "id": "uJJhE0qSpl6F",
    "outputId": "dafffad7-e2d8-4b45-f233-f38ee37f68eb"
   },
   "outputs": [],
   "source": [
    "suma, numero = 0, 1\n",
    "\n",
    "while numero <= 2:\n",
    "    suma = numero + suma\n",
    "    numero += 1\n",
    "print (\"La suma es\",suma)"
   ]
  },
  {
   "cell_type": "code",
   "execution_count": null,
   "metadata": {
    "colab": {},
    "colab_type": "code",
    "id": "1l9sZChPpl6I",
    "outputId": "2ec55523-a133-4372-c3e5-6328f5d22943"
   },
   "outputs": [],
   "source": [
    "variable = 10\n",
    "\n",
    "while variable > 0:              \n",
    "    variable -= 1\n",
    "    if variable == 5:\n",
    "        continue\n",
    "    print (\"Valor actual de la variable:\", variable)"
   ]
  },
  {
   "cell_type": "code",
   "execution_count": null,
   "metadata": {
    "colab": {},
    "colab_type": "code",
    "id": "hlyvscTFpl6K",
    "outputId": "a34b9089-6402-46e8-dd17-e32be2575846"
   },
   "outputs": [],
   "source": [
    "variable = 10\n",
    "\n",
    "while variable > 0:              \n",
    "    if variable == 5:\n",
    "        break\n",
    "    print (\"Valor actual de la variable:\", variable)\n",
    "    variable -= 1"
   ]
  },
  {
   "cell_type": "code",
   "execution_count": null,
   "metadata": {
    "colab": {},
    "colab_type": "code",
    "id": "KXEWvjDvpl6L",
    "outputId": "25577dec-33bb-4185-ee98-1ac4c9865852"
   },
   "outputs": [],
   "source": [
    "# Programa que ejemplifica el manejo de excepciones, utilizando el ciclo While.\n",
    "\n",
    "print(\"Programa que solicita un número.\")\n",
    "a=input(\"Escriba un número entero: \")\n",
    "\n",
    "while True:\n",
    "    try:\n",
    "        a=int(a)\n",
    "        print(\"\\nGracias, el valor\", a, \"es correcto.\")\n",
    "        break\n",
    "    except ValueError:\n",
    "        print(\"\\nEl valor ingresado no es un número entero.\")\n",
    "        a=input(\"Escriba un número entero: \")\n"
   ]
  },
  {
   "cell_type": "markdown",
   "metadata": {
    "colab_type": "text",
    "id": "DMAJN1QDfQkJ"
   },
   "source": [
    "### Actividad\n",
    "\n",
    "Realizar un programa que calcule los números primos desde 2 hasta n.\n",
    "\n",
    "*Nota: para calcular el residuo de una división, se utiliza el simbolo %.*\n",
    "\n",
    "        ej. 2%2=0"
   ]
  },
  {
   "cell_type": "markdown",
   "metadata": {
    "colab_type": "text",
    "id": "As7NsJ0VfQkJ"
   },
   "source": [
    "<img src=\"img\\spyder.png\" alt=\"Spyder\" width=\"300\"/>"
   ]
  },
  {
   "cell_type": "code",
   "execution_count": null,
   "metadata": {
    "colab": {},
    "colab_type": "code",
    "id": "o9Yi_oLSfQkK"
   },
   "outputs": [],
   "source": [
    "numero=int(input(\"Indique el valor máximo de la serie: \"))\n",
    "primos=[]\n",
    "for i in range(2, numero+1):\n",
    "    for divisor in range(1,i+1):\n",
    "        primo=True\n",
    "        residuo=i%divisor\n",
    "        if residuo==0 and divisor!=1 and divisor!=i:\n",
    "            primo=False\n",
    "            break\n",
    "    if primo==True:\n",
    "        primos.append(i)\n",
    "else:\n",
    "    print(primos)"
   ]
  },
  {
   "cell_type": "markdown",
   "metadata": {
    "colab_type": "text",
    "id": "hRqxuSqOpl6M"
   },
   "source": [
    "# Definiendo funciones"
   ]
  },
  {
   "cell_type": "markdown",
   "metadata": {
    "colab_type": "text",
    "id": "y9gXTC0Xpl6N"
   },
   "source": [
    "Para definir una función en Python, se utiliza la palabra reservada **def**:"
   ]
  },
  {
   "cell_type": "markdown",
   "metadata": {
    "colab_type": "text",
    "id": "Cf-lTbd9pl6N"
   },
   "source": [
    "--------------------------------------------------------------------------------------------------------------------------\n",
    "\n",
    "                                 def Nombre_de_la_funcion (argumentos):\n",
    "                                     instrucion(es)\n",
    "                                     print ó return\n",
    "\n",
    "--------------------------------------------------------------------------------------------------------------------------"
   ]
  },
  {
   "cell_type": "code",
   "execution_count": null,
   "metadata": {
    "colab": {},
    "colab_type": "code",
    "id": "Lg8DkU1vMcs4",
    "outputId": "403c3b6e-877b-4593-9020-334d2b4f5b4d"
   },
   "outputs": [],
   "source": [
    "def suma(a,b):\n",
    "    return a+b\n",
    "suma(5,6)"
   ]
  },
  {
   "cell_type": "code",
   "execution_count": 2,
   "metadata": {
    "colab": {},
    "colab_type": "code",
    "id": "aIyAsgyqMcs6",
    "outputId": "50b2f31e-9c3a-42dc-de7d-b8b7aa3398d3"
   },
   "outputs": [
    {
     "data": {
      "text/plain": [
       "28.274309999999996"
      ]
     },
     "execution_count": 2,
     "metadata": {},
     "output_type": "execute_result"
    }
   ],
   "source": [
    "def area_circulo(radio):\n",
    "    return 3.14159*radio*radio\n",
    "\n",
    "area_circulo(3)"
   ]
  },
  {
   "cell_type": "code",
   "execution_count": null,
   "metadata": {
    "colab": {},
    "colab_type": "code",
    "id": "qTCadqj9Mcs6"
   },
   "outputs": [],
   "source": [
    "import math"
   ]
  },
  {
   "cell_type": "code",
   "execution_count": null,
   "metadata": {
    "colab": {},
    "colab_type": "code",
    "id": "MuUh7-ULMcs7",
    "outputId": "96557094-ae64-4cd9-ec09-001b88dfa3c0"
   },
   "outputs": [],
   "source": [
    "def area_circulo(radio):\n",
    "    return math.pi*radio*radio\n",
    "\n",
    "area_circulo(3)"
   ]
  },
  {
   "cell_type": "code",
   "execution_count": null,
   "metadata": {
    "colab": {},
    "colab_type": "code",
    "id": "W1OyY_yfMcs8",
    "outputId": "b6d36937-c358-4af6-ced0-e820c70a6e08"
   },
   "outputs": [],
   "source": [
    "# En caso de que la función utilice un número desconocido de argumentos, utilizamos un *\n",
    "def perimetro_poligono_irregular(*lados):\n",
    "    return sum(lados)\n",
    "perimetro_poligono(3,4,5)"
   ]
  },
  {
   "cell_type": "code",
   "execution_count": null,
   "metadata": {
    "colab": {},
    "colab_type": "code",
    "id": "CQfQRA-bpl6N"
   },
   "outputs": [],
   "source": [
    "def mi_funcion(nombre):\n",
    "    print(\"Esta función te va a saludar:\")\n",
    "    print(\"Hola\",nombre)"
   ]
  },
  {
   "cell_type": "code",
   "execution_count": null,
   "metadata": {
    "colab": {},
    "colab_type": "code",
    "id": "G7sBsLTApl6O",
    "outputId": "12437e41-c56d-45a6-d239-86c46bc93140"
   },
   "outputs": [],
   "source": [
    "mi_funcion(\"Edgar\")"
   ]
  },
  {
   "cell_type": "code",
   "execution_count": null,
   "metadata": {
    "colab": {},
    "colab_type": "code",
    "id": "WOpyGxWnpl6R",
    "outputId": "e2026d22-98bb-4eb9-e082-e48c43e3a558"
   },
   "outputs": [],
   "source": [
    "mi_funcion(\"Carolina\")"
   ]
  },
  {
   "cell_type": "code",
   "execution_count": null,
   "metadata": {
    "colab": {},
    "colab_type": "code",
    "id": "QXa-SLgMpl6T",
    "outputId": "1204bb95-7e97-43dc-86a6-2a58d5657b66"
   },
   "outputs": [],
   "source": [
    "mi_funcion(\"Jaime\")"
   ]
  },
  {
   "cell_type": "code",
   "execution_count": null,
   "metadata": {
    "colab": {},
    "colab_type": "code",
    "id": "YO-VcPedpl6U",
    "outputId": "fe8c4361-e90b-41fd-a09c-916a6f07eb7b"
   },
   "outputs": [],
   "source": [
    "mi_funcion(\"Yesica\")"
   ]
  },
  {
   "cell_type": "code",
   "execution_count": null,
   "metadata": {},
   "outputs": [],
   "source": [
    "# Un parametro inicializado será utilizado únicamente cuando no se le asigne valor al momento de llamar la función:\n",
    "def pais(country = \"Mexico\"):\n",
    "    print(\"Yo soy de \" + country)\n",
    "        \n",
    "pais(\"Paraguay\")\n",
    "pais(\"UK\")\n",
    "pais()"
   ]
  },
  {
   "cell_type": "markdown",
   "metadata": {
    "colab_type": "text",
    "id": "0_ErE_j0Mcs_"
   },
   "source": [
    "------------------------------------------------------------------------------------------------------------------------\n",
    "\n",
    "Los parametros inicializados son útiles para crear funciones con varios parametros, en donde dependiendo los parametros activos, la función realizará alguna u otra acción. Esto se logra al inicializarlos con el valor **None**\n",
    "\n",
    "------------------------------------------------------------------------------------------------------------------------"
   ]
  },
  {
   "cell_type": "code",
   "execution_count": null,
   "metadata": {
    "colab": {},
    "colab_type": "code",
    "id": "2o5hhlh1Mcs_"
   },
   "outputs": [],
   "source": [
    "def area_poligono_regular(circulo=False, radio=None, lados=None, long_lado=None):\n",
    "    if circulo==True:\n",
    "        return area_circulo(radio)\n",
    "    else:\n",
    "        if lados<=2:\n",
    "            print(\"El número de lados no corresponde a un poligono\")\n",
    "        else:\n",
    "            perimetro=lados*long_lado\n",
    "            angulo=360/(2*lados)\n",
    "            apotema=lados/(2*math.tan(math.radians(angulo)))\n",
    "            area=(perimetro*apotema/2)\n",
    "            print(round(area,2))"
   ]
  },
  {
   "cell_type": "markdown",
   "metadata": {
    "colab_type": "text",
    "id": "sCN1nsyLMctA"
   },
   "source": [
    "<img src=\"img\\poligono-regular-apotema.jpg\" alt=\"Spyder\" width=\"300\"/>"
   ]
  },
  {
   "cell_type": "code",
   "execution_count": null,
   "metadata": {
    "colab": {},
    "colab_type": "code",
    "id": "mlDeuNWiMctA",
    "outputId": "bb4bc982-45b4-44ce-b783-c9ed81506b0d"
   },
   "outputs": [],
   "source": [
    "area_poligono_regular(circulo=True, radio=5)"
   ]
  },
  {
   "cell_type": "code",
   "execution_count": null,
   "metadata": {
    "colab": {},
    "colab_type": "code",
    "id": "8nB01xglMctB",
    "outputId": "2ab5db51-10be-4bbe-80fc-5179e0f278e0"
   },
   "outputs": [],
   "source": [
    "area_poligono_regular(lados=4, long_lado=2)"
   ]
  },
  {
   "cell_type": "code",
   "execution_count": 3,
   "metadata": {},
   "outputs": [],
   "source": [
    "def area_poligono_regular(circulo=False, radio=None, lados=None, long_lado=None):\n",
    "    '''\n",
    "    Estas lineas contendran la ayuda que se considere pertinente para que el usuario\n",
    "    pueda hacer uso de la función.\n",
    "    '''\n",
    "    if circulo==True:\n",
    "        return area_circulo(radio)\n",
    "    else:\n",
    "        if lados<=2:\n",
    "            print(\"El número de lados no corresponde a un poligono\")\n",
    "        else:\n",
    "            perimetro=lados*long_lado\n",
    "            angulo=360/(2*lados)\n",
    "            apotema=lados/(2*math.tan(math.radians(angulo)))\n",
    "            area=(perimetro*apotema/2)\n",
    "            print(round(area,2))"
   ]
  },
  {
   "cell_type": "code",
   "execution_count": 5,
   "metadata": {},
   "outputs": [],
   "source": [
    "#area_poligono_regular()"
   ]
  },
  {
   "cell_type": "markdown",
   "metadata": {
    "colab_type": "text",
    "id": "jstVl2m2pl6V"
   },
   "source": [
    "### Actividad"
   ]
  },
  {
   "cell_type": "markdown",
   "metadata": {
    "colab_type": "text",
    "id": "DqtFyprBpl6V"
   },
   "source": [
    "Crea funciones personalizadas para los siguientes ejercicios que se desarrollaron en el presente cuaderno:\n",
    "\n",
    "* Función que solicita 3 números y los ordena.\n",
    "\n",
    "* Función que imprima el triangulo de números horizontal en pantalla de acuerdo a un nivel n.\n",
    "\n",
    "* Función que utiliza el manejo de excepciones para solicitar el dato correcto."
   ]
  },
  {
   "cell_type": "markdown",
   "metadata": {
    "colab_type": "text",
    "id": "UXo9btSypl6W"
   },
   "source": [
    "<img src=\"img\\spyder.png\" alt=\"Spyder\" width=\"300\"/>"
   ]
  },
  {
   "cell_type": "code",
   "execution_count": null,
   "metadata": {
    "colab": {},
    "colab_type": "code",
    "id": "kyV2-Vnupl6W"
   },
   "outputs": [],
   "source": [
    "def ordenar_3_numeros(a,b,c):\n",
    "    if a==b or a==c or b==c:\n",
    "        print(\"Los 3 números deben de ser diferentes\")\n",
    "\n",
    "    # Selección de la combinación de los números:\n",
    "    else:\n",
    "        # El promedio se calcula 1 vez ya que no importa el orden de los números\n",
    "        promedio=(a+b+c)/3\n",
    "        if a>b and b>c:\n",
    "            print(\"\\nLos números de mayor a menor son: \", a, b, c,\"\\nSu promedio es :\", promedio)\n",
    "        elif a>c and c>b:\n",
    "            print(\"\\nLos números de mayor a menor son: \", a, c, b,\"\\nSu promedio es :\", promedio)\n",
    "        elif b>c and c>a:\n",
    "            print(\"\\nLos números de mayor a menor son: \", b, c, a,\"\\nSu promedio es :\", promedio)\n",
    "        elif b>a and a>c:\n",
    "            print(\"\\nLos números de mayor a menor son: \", b, a, c,\"\\nSu promedio es :\", promedio)\n",
    "        elif c>a and a>b:\n",
    "            print(\"\\nLos números de mayor a menor son: \", c, a, b,\"\\nSu promedio es :\", promedio)\n",
    "        elif c>b and b>a:\n",
    "            print(\"\\nLos números de mayor a menor son: \", c, b, a,\"\\nSu promedio es :\", promedio)"
   ]
  },
  {
   "cell_type": "code",
   "execution_count": null,
   "metadata": {
    "colab": {},
    "colab_type": "code",
    "id": "1D8XNo5dpl6a",
    "outputId": "923b7c48-d3d5-4e24-cf14-b47f3e713c37"
   },
   "outputs": [],
   "source": [
    "ordenar_3_numeros(5,8,1)"
   ]
  },
  {
   "cell_type": "code",
   "execution_count": null,
   "metadata": {
    "colab": {},
    "colab_type": "code",
    "id": "k052PCyvpl6e"
   },
   "outputs": [],
   "source": [
    "def triangulo(altura):\n",
    "    for i in range(1, altura+1): # Range maneja posiciones indexadas, por ello agregamos un valor mas\n",
    "        valor=1\n",
    "\n",
    "        # La variable posición, nos indica el número de espacios en blanco a escribir\n",
    "        posicion=altura-i\n",
    "        # Ciclo for de columnas:\n",
    "        for j in range (1, altura+1):\n",
    "            # Escribe en númnero de espacios en blanco\n",
    "            if j<=posicion:\n",
    "                print(\" \", end = \" \")\n",
    "\n",
    "            # Cuando se empiezan a escribir valores, es necesario verificar si es ascendente o descendente.\n",
    "            else:\n",
    "                # Instrucciones para descendente\n",
    "                if valor==i:\n",
    "                    print(valor, end = \" \")\n",
    "                    # Nueva variable contadora para los valores descendentes, es igual al nivel menos 1\n",
    "                    valor2=valor-1\n",
    "                    if valor2==0:\n",
    "                        print()\n",
    "                        break\n",
    "                    for j2 in range(1,valor):\n",
    "                        print(valor2, end = \" \")\n",
    "                        valor2-=1\n",
    "                        if valor2==0:\n",
    "                            print()\n",
    "                            break\n",
    "                # Instrucciones para ascendente\n",
    "                else:\n",
    "                    print(valor, end = \" \")\n",
    "                    valor+=1"
   ]
  },
  {
   "cell_type": "code",
   "execution_count": null,
   "metadata": {
    "colab": {},
    "colab_type": "code",
    "id": "wRUObZzEpl6f",
    "outputId": "1b1ea716-220c-49be-f29a-05b1392f30f1"
   },
   "outputs": [],
   "source": [
    "triangulo(9)"
   ]
  },
  {
   "cell_type": "code",
   "execution_count": null,
   "metadata": {
    "colab": {},
    "colab_type": "code",
    "id": "2V4LHSSWpl6g"
   },
   "outputs": [],
   "source": [
    "def control_numero_entero(a):\n",
    "    while True:\n",
    "        try:\n",
    "            a=int(a)\n",
    "            print(\"\\nGracias, el valor\", a, \"es correcto.\")\n",
    "            break\n",
    "        except ValueError:\n",
    "            print(\"\\nEl valor ingresado no es un número entero.\")\n",
    "            a=input(\"Escriba un número entero: \")"
   ]
  },
  {
   "cell_type": "code",
   "execution_count": null,
   "metadata": {
    "colab": {},
    "colab_type": "code",
    "id": "1-Y7cznBpl6h",
    "outputId": "9f431c72-8795-4a1b-9759-62fe00d4c3f3"
   },
   "outputs": [],
   "source": [
    "control_numero_entero(\"Hola\")"
   ]
  },
  {
   "cell_type": "markdown",
   "metadata": {
    "colab_type": "text",
    "id": "2qDNmTA-kjYE"
   },
   "source": [
    "# Tipos de estructuras de datos en Python"
   ]
  },
  {
   "cell_type": "markdown",
   "metadata": {
    "colab_type": "text",
    "id": "-yifTRsKkjYF"
   },
   "source": [
    "Existen diferentes tipos de arreglos en Python, los 3 mas usuales son los siguientes:\n",
    "\n",
    "- **Listas [ ]**, colección ordenada y modificable de elementos.\n",
    "- **Tuplas ( )**, colección ordenada e inmutable de elementos. \n",
    "- **Diccionarios { }**, colección sin ordenar, modificable e indexada de elementos.\n",
    "- **Sets { }**, colección de datos únicos"
   ]
  },
  {
   "cell_type": "markdown",
   "metadata": {
    "colab_type": "text",
    "id": "CJEXgFIapl4r"
   },
   "source": [
    "## Listas"
   ]
  },
  {
   "cell_type": "markdown",
   "metadata": {
    "colab_type": "text",
    "id": "UGBgNhlIpl4s"
   },
   "source": [
    "Crear una lista vacia:"
   ]
  },
  {
   "cell_type": "code",
   "execution_count": null,
   "metadata": {
    "colab": {},
    "colab_type": "code",
    "id": "QjtDmnMxpl4s"
   },
   "outputs": [],
   "source": [
    "lista=[]"
   ]
  },
  {
   "cell_type": "markdown",
   "metadata": {
    "colab_type": "text",
    "id": "8CsKQeQspl4u"
   },
   "source": [
    "Crear una lista con diferentes tipos de variables:"
   ]
  },
  {
   "cell_type": "code",
   "execution_count": null,
   "metadata": {
    "colab": {},
    "colab_type": "code",
    "id": "hkshseDxpl4v"
   },
   "outputs": [],
   "source": [
    "#Solo strings\n",
    "lista_strings=[\"hola\", \"esta\", \"es\", \"una\", \"lista\"]\n",
    "\n",
    "#Solo enteros\n",
    "lista_int=[1,2,3,4,5]\n",
    "\n",
    "#Solo float\n",
    "lista_float=[1.5,3.14,9.7]\n",
    "\n",
    "#Lista, variables combinadas\n",
    "lista_all=[\"hola\", 1, 3.14]"
   ]
  },
  {
   "cell_type": "markdown",
   "metadata": {
    "colab_type": "text",
    "id": "uM1o5kjFpl4w"
   },
   "source": [
    "Formas de obtener la información dentro de una lista:"
   ]
  },
  {
   "cell_type": "code",
   "execution_count": null,
   "metadata": {
    "colab": {},
    "colab_type": "code",
    "id": "lvs4zPXkpl4x",
    "outputId": "569bfc24-a57e-49b4-badc-accea5713434"
   },
   "outputs": [],
   "source": [
    "#Directamente por su nombre\n",
    "lista_strings"
   ]
  },
  {
   "cell_type": "code",
   "execution_count": null,
   "metadata": {
    "colab": {},
    "colab_type": "code",
    "id": "siZ3wbf4fQiy"
   },
   "outputs": [],
   "source": [
    "adjetivos=[\"Rico\", \"Dulce\", \"Colorido\"]"
   ]
  },
  {
   "cell_type": "code",
   "execution_count": null,
   "metadata": {
    "colab": {},
    "colab_type": "code",
    "id": "4Tx3kbLLpl4z",
    "outputId": "65d020f9-82e0-4b51-fe33-271d3173c59c"
   },
   "outputs": [],
   "source": [
    "#Método print()\n",
    "print(lista_int)"
   ]
  },
  {
   "cell_type": "code",
   "execution_count": null,
   "metadata": {
    "colab": {},
    "colab_type": "code",
    "id": "EQhtDXklpl41",
    "outputId": "59ad58b3-fc95-40b3-fd75-233b5c3c36e0"
   },
   "outputs": [],
   "source": [
    "#Elemento específico de una lista a partir de su posición indexada:\n",
    "lista_all[2]"
   ]
  },
  {
   "cell_type": "markdown",
   "metadata": {
    "colab_type": "text",
    "id": "VKGHQo6FkjYh"
   },
   "source": [
    "### Agregar elementos a una lista\n",
    "\n",
    "Para poder agregar un elemento al final de una lista, se utiliza el método **append()**:"
   ]
  },
  {
   "cell_type": "code",
   "execution_count": null,
   "metadata": {
    "colab": {},
    "colab_type": "code",
    "id": "A6fe7jjdkjYh",
    "outputId": "51e8ef60-37de-412f-cae5-35018ca30408"
   },
   "outputs": [],
   "source": [
    "frutas = [\"limón\", \"platano\", \"mango\"]\n",
    "frutas.append(\"pomelo\")\n",
    "print(frutas)"
   ]
  },
  {
   "cell_type": "code",
   "execution_count": null,
   "metadata": {
    "colab": {},
    "colab_type": "code",
    "id": "e1EtFK1cfQiw",
    "outputId": "c640c718-da1a-4f06-b0b8-072846a937b7"
   },
   "outputs": [],
   "source": [
    "# Con el método len es posible conocer el número de elementos dentro de un arrego\n",
    "len(frutas)"
   ]
  },
  {
   "cell_type": "markdown",
   "metadata": {
    "colab_type": "text",
    "id": "PCtPkZzXkjYj"
   },
   "source": [
    "Para agregar un elemento a una lista en una posición específica, se utiliza el método **insert()**"
   ]
  },
  {
   "cell_type": "code",
   "execution_count": null,
   "metadata": {
    "colab": {},
    "colab_type": "code",
    "id": "WWj0MHXfkjYk",
    "outputId": "950541b7-2792-4e28-bb74-54cd40a3b272"
   },
   "outputs": [],
   "source": [
    "frutas.insert(1,\"naranja\") #El primer elemento corresponde a la posición (indexada) y el segundo el elemento a agregar.\n",
    "print(frutas)"
   ]
  },
  {
   "cell_type": "markdown",
   "metadata": {
    "colab_type": "text",
    "id": "Is9t8txQkjYo"
   },
   "source": [
    "### Remover elementos a una lista\n",
    "Para remover un elemento específico de una lista, se utiliza el método **remove()**"
   ]
  },
  {
   "cell_type": "code",
   "execution_count": null,
   "metadata": {
    "colab": {},
    "colab_type": "code",
    "id": "_3F80Iv2kjYp",
    "outputId": "eb6225eb-34e3-46ad-8a16-a80d43db0526"
   },
   "outputs": [],
   "source": [
    "frutas.remove(\"mango\")\n",
    "frutas"
   ]
  },
  {
   "cell_type": "markdown",
   "metadata": {
    "colab_type": "text",
    "id": "0exhBeyskjYr"
   },
   "source": [
    "Otra manera de quitar un elemento a partir de su posición indexada es mendiante el método **pop()** o **del()**"
   ]
  },
  {
   "cell_type": "code",
   "execution_count": null,
   "metadata": {
    "colab": {},
    "colab_type": "code",
    "id": "1PXwoZNYkjYs",
    "outputId": "9609599a-9c2d-4389-f762-e80995b74fe8"
   },
   "outputs": [],
   "source": [
    "frutas.pop(1)\n",
    "frutas"
   ]
  },
  {
   "cell_type": "markdown",
   "metadata": {
    "colab_type": "text",
    "id": "HG0aWypCkjYt"
   },
   "source": [
    "Si el método **pop()** se utiliza si un index, se eliminará el último elemento de la lista:"
   ]
  },
  {
   "cell_type": "code",
   "execution_count": null,
   "metadata": {
    "colab": {},
    "colab_type": "code",
    "id": "EHdSLrpNkjYu",
    "outputId": "b93010b9-f6e9-4478-c4fa-59ac2c297449"
   },
   "outputs": [],
   "source": [
    "frutas.pop()\n",
    "frutas"
   ]
  },
  {
   "cell_type": "markdown",
   "metadata": {
    "colab_type": "text",
    "id": "Hs31al7mkjYv"
   },
   "source": [
    "Para vaciar una lista, podemos usar el método **clear()**"
   ]
  },
  {
   "cell_type": "code",
   "execution_count": null,
   "metadata": {
    "colab": {},
    "colab_type": "code",
    "id": "iHOGlDOwkjYw",
    "outputId": "4a0d6cef-fa7a-4002-8e83-43508207f793"
   },
   "outputs": [],
   "source": [
    "frutas.clear()\n",
    "frutas"
   ]
  },
  {
   "cell_type": "markdown",
   "metadata": {
    "colab_type": "text",
    "id": "_VCN_J7NkjYy"
   },
   "source": [
    "Existen muchos métodos incorporados a los distintos objetos en Python. Para poder determinar a cuales tenemos acceso, es posible utilizar el método **dir**:"
   ]
  },
  {
   "cell_type": "code",
   "execution_count": null,
   "metadata": {
    "colab": {},
    "colab_type": "code",
    "id": "3mqvDBXekjYy",
    "outputId": "65c54960-a0b5-4677-b206-ac2c7cfee49e"
   },
   "outputs": [],
   "source": [
    "print(dir(adjetivos))\n"
   ]
  },
  {
   "cell_type": "code",
   "execution_count": null,
   "metadata": {
    "colab": {},
    "colab_type": "code",
    "id": "mwuGh3_SfQjK",
    "outputId": "e3921602-8b5c-4bc0-ceec-526bd2ca68fb"
   },
   "outputs": [],
   "source": [
    "adjetivos"
   ]
  },
  {
   "cell_type": "code",
   "execution_count": null,
   "metadata": {
    "colab": {},
    "colab_type": "code",
    "id": "S0t5cFOGfQjL",
    "outputId": "be5469f6-da77-4093-af97-2ccccd451599"
   },
   "outputs": [],
   "source": [
    "# Para acceder a la ayuda de los métodos, es necesario precionar shift+tab\n",
    "\n",
    "adjetivos.count(\"Rico\")"
   ]
  },
  {
   "cell_type": "code",
   "execution_count": null,
   "metadata": {
    "colab": {},
    "colab_type": "code",
    "id": "GX2uZwzKfQjQ",
    "outputId": "8e79fe10-d4a0-41d5-e395-71ffb5f3410d"
   },
   "outputs": [],
   "source": [
    "adjetivos.append(\"Rico\")\n",
    "adjetivos.count(\"Rico\")"
   ]
  },
  {
   "cell_type": "code",
   "execution_count": null,
   "metadata": {
    "colab": {},
    "colab_type": "code",
    "id": "ydZcrcGwfQjR",
    "outputId": "a389dc01-ed8a-45b6-b52b-6a04a8bad01b"
   },
   "outputs": [],
   "source": [
    "adjetivos.sort()\n",
    "adjetivos"
   ]
  },
  {
   "cell_type": "code",
   "execution_count": null,
   "metadata": {
    "colab": {},
    "colab_type": "code",
    "id": "oKDa29lKfQjS",
    "outputId": "2c60069a-5729-4ba0-e9b5-ac5b92efc011"
   },
   "outputs": [],
   "source": [
    "adjetivos.reverse()\n",
    "adjetivos"
   ]
  },
  {
   "cell_type": "code",
   "execution_count": null,
   "metadata": {
    "colab": {},
    "colab_type": "code",
    "id": "hVKi0XbXfQjT"
   },
   "outputs": [],
   "source": [
    "#los métodos ya incorporados a las tuplas son menos ya que estas son inmutables una vez creadas.\n",
    "print(dir(tupla))"
   ]
  },
  {
   "cell_type": "markdown",
   "metadata": {
    "colab_type": "text",
    "id": "AlkYszdwpl43"
   },
   "source": [
    "## Tuplas"
   ]
  },
  {
   "cell_type": "markdown",
   "metadata": {
    "colab_type": "text",
    "id": "FVZCzLKLpl5C"
   },
   "source": [
    "Una tupla es **INMUTABLE** ya que:\n",
    "\n",
    "1. **No puedes** agregar elementos\n",
    "1. **No puedes** eliminar elementos\n",
    "1. **No puedes** reasignar elementos"
   ]
  },
  {
   "cell_type": "markdown",
   "metadata": {
    "colab_type": "text",
    "id": "Fo3DgmgVpl44"
   },
   "source": [
    "Crear una tupla vacia"
   ]
  },
  {
   "cell_type": "code",
   "execution_count": null,
   "metadata": {
    "colab": {},
    "colab_type": "code",
    "id": "jbhwvBP2pl44"
   },
   "outputs": [],
   "source": [
    "tupla=()"
   ]
  },
  {
   "cell_type": "markdown",
   "metadata": {},
   "source": [
    "Reescribiendo una tupla"
   ]
  },
  {
   "cell_type": "code",
   "execution_count": null,
   "metadata": {},
   "outputs": [],
   "source": [
    "tupla=(\"si\",\"no\")"
   ]
  },
  {
   "cell_type": "code",
   "execution_count": null,
   "metadata": {
    "colab": {},
    "colab_type": "code",
    "id": "6tqb4BP9fQjH"
   },
   "outputs": [],
   "source": [
    "#tupla.pop()"
   ]
  },
  {
   "cell_type": "code",
   "execution_count": null,
   "metadata": {
    "scrolled": true
   },
   "outputs": [],
   "source": [
    "print(dir(tupla))"
   ]
  },
  {
   "cell_type": "code",
   "execution_count": null,
   "metadata": {},
   "outputs": [],
   "source": [
    "tupla1=(3,5)\n",
    "tupla2=(5,8)\n",
    "resultado=tupla1+tupla2\n",
    "print(resultado)"
   ]
  },
  {
   "cell_type": "code",
   "execution_count": null,
   "metadata": {},
   "outputs": [],
   "source": [
    "isinstance(tupla1,tuple)"
   ]
  },
  {
   "cell_type": "markdown",
   "metadata": {
    "colab_type": "text",
    "id": "drM1uw7_pl46"
   },
   "source": [
    "Creando tuplas con diferentes tipos de variables"
   ]
  },
  {
   "cell_type": "code",
   "execution_count": null,
   "metadata": {
    "colab": {},
    "colab_type": "code",
    "id": "GBkxIyH7pl46"
   },
   "outputs": [],
   "source": [
    "#Solo strings\n",
    "tupla_strings=(\"Una\", \"Tupla\", \"es\", \"INMUTABLE\")\n",
    "\n",
    "#Solo enteros\n",
    "tupla_int=(1,2,3)\n",
    "\n",
    "#Solo float\n",
    "tupla_float=(10.1,20.2,30.3)\n",
    "\n",
    "#Tupla, variables combinadas\n",
    "tupla_all=(\"hola\", True, 9.9)"
   ]
  },
  {
   "cell_type": "markdown",
   "metadata": {
    "colab_type": "text",
    "id": "BOBPl3nnpl48"
   },
   "source": [
    "Formas de obtener la información dentro de una tupla:"
   ]
  },
  {
   "cell_type": "code",
   "execution_count": null,
   "metadata": {
    "colab": {},
    "colab_type": "code",
    "id": "W-1MCeK9pl49",
    "outputId": "02b22a34-53d2-40c9-d8f3-9085c9820569"
   },
   "outputs": [],
   "source": [
    "#Directamente por su nombre\n",
    "tupla_strings"
   ]
  },
  {
   "cell_type": "code",
   "execution_count": null,
   "metadata": {
    "colab": {},
    "colab_type": "code",
    "id": "pvzTLjwypl4-",
    "outputId": "edaa166d-22c6-4279-b481-599eaad7ee2e"
   },
   "outputs": [],
   "source": [
    "#Método print()\n",
    "print(tupla_float)"
   ]
  },
  {
   "cell_type": "code",
   "execution_count": null,
   "metadata": {
    "colab": {},
    "colab_type": "code",
    "id": "bqOgyJFmpl5A",
    "outputId": "cdcfdcf1-a9fd-4658-d399-ac375ae2f594"
   },
   "outputs": [],
   "source": [
    "#Elemento específico de una lista a partir de su posición indexada:\n",
    "tupla_all[1]"
   ]
  },
  {
   "cell_type": "markdown",
   "metadata": {
    "colab_type": "text",
    "id": "wkGoC3O2pl5D"
   },
   "source": [
    "## Diccionarios"
   ]
  },
  {
   "cell_type": "markdown",
   "metadata": {
    "colab_type": "text",
    "id": "BJ2a8UW1kjY0"
   },
   "source": [
    "Los **diccionarios** en Python son un arreglo de datos que permite manejar pares clave-valor. Las clave deben de ser **únicas** dentro de un mismo diccionario (es decir que no pueden existir dos elementos con una misma clave)"
   ]
  },
  {
   "cell_type": "markdown",
   "metadata": {
    "colab_type": "text",
    "id": "yQsZizvSpl5D"
   },
   "source": [
    "Diccionario vacio:"
   ]
  },
  {
   "cell_type": "code",
   "execution_count": null,
   "metadata": {
    "colab": {},
    "colab_type": "code",
    "id": "zu4rQpRGpl5E"
   },
   "outputs": [],
   "source": [
    "diccionario={}"
   ]
  },
  {
   "cell_type": "markdown",
   "metadata": {
    "colab_type": "text",
    "id": "vDoX3ZbRpl5G"
   },
   "source": [
    "Crear una lista con diferentes tipos de variables:"
   ]
  },
  {
   "cell_type": "code",
   "execution_count": null,
   "metadata": {
    "colab": {},
    "colab_type": "code",
    "id": "WKs__cmDpl5I"
   },
   "outputs": [],
   "source": [
    "#Solo strings de contenido\n",
    "dict_strings={1:\"Hola\", 2:\"esto\", 3:\"es\", 4:\"un\", 5:\"diccionario\"}\n",
    "\n",
    "#Solo strings llaves y contenido\n",
    "dict_strings2={\"Primera\":\"Hola\", \"Segunda\":\"esto\", \"Tercera\":\"es\", \"Cuarta\":\"un\", \"Quinta\":\"diccionario\"}\n",
    "\n",
    "#Diccionario combinando llaves y contenido con enteros y strings\n",
    "dict_int={1:\"Hola\",\"Segundo\":2,\"Tercero\":\"Mundo\",4:4,5:\"!\"}\n",
    "\n",
    "\"Diccionario con listas y tuplas de contenido\"\n",
    "lista_all={1:[1,2,3,4,5], 2:(10,20,30), 3:[(\"a\",\"b\"),(\"c\",\"d\")]}"
   ]
  },
  {
   "cell_type": "markdown",
   "metadata": {
    "colab_type": "text",
    "id": "viQYX_lvpl5L"
   },
   "source": [
    "Formas de obtener la información dentro de un diccionario:"
   ]
  },
  {
   "cell_type": "code",
   "execution_count": null,
   "metadata": {
    "colab": {},
    "colab_type": "code",
    "id": "FI3S4QvVpl5L",
    "outputId": "f0379622-4c53-4de6-ac15-8d24eced05dd"
   },
   "outputs": [],
   "source": [
    "#Directamente por su nombre\n",
    "dict_strings"
   ]
  },
  {
   "cell_type": "code",
   "execution_count": null,
   "metadata": {
    "colab": {},
    "colab_type": "code",
    "id": "z9e6fmN5pl5N",
    "outputId": "b74b52dc-e050-42f7-cfd0-2563cc033313"
   },
   "outputs": [],
   "source": [
    "#Método print()\n",
    "print(dict_strings2)"
   ]
  },
  {
   "cell_type": "code",
   "execution_count": null,
   "metadata": {
    "colab": {},
    "colab_type": "code",
    "id": "od6qK5-Jpl5O",
    "outputId": "38ddd872-c51f-4c2e-e9c1-68bd6eb15f7f"
   },
   "outputs": [],
   "source": [
    "#Elemento específico de una lista a partir de su posición indexada:\n",
    "dict_int[1]"
   ]
  },
  {
   "cell_type": "code",
   "execution_count": null,
   "metadata": {
    "colab": {},
    "colab_type": "code",
    "id": "csvcBvdcpl5Q",
    "outputId": "98de4370-9685-4fd7-af12-46743abfd43d"
   },
   "outputs": [],
   "source": [
    "dict_int[\"Segundo\"]"
   ]
  },
  {
   "cell_type": "code",
   "execution_count": null,
   "metadata": {
    "colab": {},
    "colab_type": "code",
    "id": "lT1xNDzSkjY0"
   },
   "outputs": [],
   "source": [
    "dict ={  \"Nombre\": \"Edgar\",  \"Edad\": 32,  \n",
    "         \"Materias\": [\"POO\", \"Algoritmos\", \"Dinámica de robots\"]}\n",
    "\n",
    "print(dict)"
   ]
  },
  {
   "cell_type": "markdown",
   "metadata": {
    "colab_type": "text",
    "id": "PV1zAOFxkjY2"
   },
   "source": [
    "Para acceder a un elemento dentro de un diccionario, es necesario utilizar su nombre **clave**:"
   ]
  },
  {
   "cell_type": "code",
   "execution_count": null,
   "metadata": {
    "colab": {},
    "colab_type": "code",
    "id": "A6q65PyZAZGw"
   },
   "outputs": [],
   "source": [
    "dict.keys()"
   ]
  },
  {
   "cell_type": "code",
   "execution_count": null,
   "metadata": {
    "colab": {},
    "colab_type": "code",
    "id": "VOFSjZhjkjY3"
   },
   "outputs": [],
   "source": [
    "dict[\"Materias\"]"
   ]
  },
  {
   "cell_type": "markdown",
   "metadata": {
    "colab_type": "text",
    "id": "zGvs5XhgkjY5"
   },
   "source": [
    "Al igual que las listas, tambien se pueden cambiar elementos dentro de un diccionario. Para ello simplemente hay que referirse a su **clave**:"
   ]
  },
  {
   "cell_type": "code",
   "execution_count": null,
   "metadata": {
    "colab": {},
    "colab_type": "code",
    "id": "oVMuF2jxkjY6"
   },
   "outputs": [],
   "source": [
    "dict[\"Edad\"]=23\n",
    "dict"
   ]
  },
  {
   "cell_type": "code",
   "execution_count": null,
   "metadata": {
    "colab": {},
    "colab_type": "code",
    "id": "5GzHfxPpBTnv"
   },
   "outputs": [],
   "source": [
    "# Con el método len, es posible conocer el número de llaves que contiene un diccionario.\n",
    "len(dict)"
   ]
  },
  {
   "cell_type": "code",
   "execution_count": null,
   "metadata": {
    "colab": {},
    "colab_type": "code",
    "id": "KizKWW5kBbUx"
   },
   "outputs": [],
   "source": [
    "#Al acceder directamente a una de las llaves, el método len nos dará el número de elementos de dicha llave.\n",
    "len(dict[\"Materias\"])"
   ]
  },
  {
   "cell_type": "code",
   "execution_count": null,
   "metadata": {
    "colab": {},
    "colab_type": "code",
    "id": "FElU1xfcBu9K"
   },
   "outputs": [],
   "source": [
    "# Nuevamente usamos el método dir para conococer los métodos ya incorporados al diccionario.\n",
    "print(dir(dict))"
   ]
  },
  {
   "cell_type": "markdown",
   "metadata": {
    "colab_type": "text",
    "id": "5qIbRU2TfQje"
   },
   "source": [
    "### Actividad\n",
    "* Crea 3 ejemplos de estructuras de datos propios para tuplas.\n",
    "* Crea 1 lista de 5 elementos, sobre los programas que te gustan.\n",
    "* De la lista anterior, ordenala alfabéticamente, y posteriormente elimina el último elemento de la lista.\n",
    "* Agrega un nuevo programa a la lista y ordenala de forma inversa (No de la Z a la A).\n",
    "* Crea un diccionario en el que:\n",
    "            ** La primer llave se llame tuplas, y dicha llave contenga las tuplas creadas en el presente ejercicio.\n",
    "            ** La segunda llave se llame listas y ahí se almacene la lista de programas.\n",
    "            ** La tercera llave se llame libre, y ahi asignaras 5 elementos libres a escoger."
   ]
  },
  {
   "cell_type": "markdown",
   "metadata": {
    "colab_type": "text",
    "id": "oASjKtJKfQje"
   },
   "source": [
    "<img src=\"img/spyder.png\" alt=\"Spyder\" width=\"300\"/>"
   ]
  },
  {
   "cell_type": "code",
   "execution_count": null,
   "metadata": {
    "colab": {},
    "colab_type": "code",
    "id": "LG19v5KxfQje"
   },
   "outputs": [],
   "source": [
    "sexo=(\"m\",\"f\")\n",
    "punto_cardinal=(\"E\", \"O\", \"N\", \"S\")\n",
    "colores_primarios=(\"azul\", \"rojo\", \"verde\")"
   ]
  },
  {
   "cell_type": "code",
   "execution_count": null,
   "metadata": {
    "colab": {},
    "colab_type": "code",
    "id": "bf3B_wb8fQjg"
   },
   "outputs": [],
   "source": [
    "programas=[\"GoT\", \"The Big Bang Theory\", \"Cosmos\", \"Friends\", \"Pimp my ride\"]"
   ]
  },
  {
   "cell_type": "code",
   "execution_count": null,
   "metadata": {
    "colab": {},
    "colab_type": "code",
    "id": "3cfCn87KfQjl",
    "outputId": "6986cfc8-c3ba-42c4-eec5-60abe8d9c405"
   },
   "outputs": [],
   "source": [
    "programas.sort()\n",
    "programas.pop()\n",
    "programas"
   ]
  },
  {
   "cell_type": "code",
   "execution_count": null,
   "metadata": {
    "colab": {},
    "colab_type": "code",
    "id": "_GMmgr9LfQjn",
    "outputId": "ffadb8ea-a495-4c5c-bec7-7d88734a463f"
   },
   "outputs": [],
   "source": [
    "programas.append(\"Avatar\")\n",
    "programas.reverse()\n",
    "programas"
   ]
  },
  {
   "cell_type": "code",
   "execution_count": null,
   "metadata": {
    "colab": {},
    "colab_type": "code",
    "id": "KvVH7NbyfQjo",
    "outputId": "590af6e5-fa81-4073-dcec-ca651055abc6"
   },
   "outputs": [],
   "source": [
    "diccionario={\"tuplas\":(sexo,punto_cardinal,colores_primarios), \n",
    "             \"listas\":programas, \"Libre\":[\"Hola\", \"este\", \"es\", \"un\", \"diccionario\"] }\n",
    "diccionario"
   ]
  },
  {
   "cell_type": "code",
   "execution_count": null,
   "metadata": {},
   "outputs": [],
   "source": []
  },
  {
   "cell_type": "markdown",
   "metadata": {
    "colab_type": "text",
    "id": "ibI4XmU1sq7w"
   },
   "source": [
    "## Ejercicio 5"
   ]
  },
  {
   "cell_type": "code",
   "execution_count": null,
   "metadata": {
    "colab": {},
    "colab_type": "code",
    "id": "_bp_T3VKsq7x"
   },
   "outputs": [],
   "source": [
    "# Listas\n",
    "\n",
    "list_1 = [0, 1, 2]\n",
    "list_2 = [\"3\", \"4\", \"5\"]\n",
    "list_3 = [6.0, 7.0, 8.0]\n",
    "matriz = []"
   ]
  },
  {
   "cell_type": "code",
   "execution_count": null,
   "metadata": {
    "colab": {},
    "colab_type": "code",
    "id": "RUOBYMNksq70"
   },
   "outputs": [],
   "source": [
    "\"\"\"\n",
    "Cree una matriz de enteros de la forma\n",
    "|2   1   0|\n",
    "|3   4   5|\n",
    "|8   7   6|\n",
    "utilizando como base las listas 1 a 3\n",
    "utilize la sentencia append() para crear la matriz\n",
    "\"\"\"\n",
    "# Crear matriz\n"
   ]
  },
  {
   "cell_type": "code",
   "execution_count": null,
   "metadata": {
    "colab": {},
    "colab_type": "code",
    "id": "R_6KEHiqsq72"
   },
   "outputs": [],
   "source": [
    "# Convertir a enteros, usar el siguiente ejemplo:\n",
    "matriz[1][0] = int(matriz[1][0])\n",
    "\n",
    "# Convertir:\n",
    "matriz____\n",
    "matriz____\n",
    "matriz____\n",
    "matriz____\n",
    "matriz[2][2] = ____"
   ]
  },
  {
   "cell_type": "code",
   "execution_count": null,
   "metadata": {
    "colab": {},
    "colab_type": "code",
    "id": "M_aK104jsq73"
   },
   "outputs": [],
   "source": [
    "# Imprima la matriz con un print\n"
   ]
  },
  {
   "cell_type": "markdown",
   "metadata": {
    "colab_type": "text",
    "id": "abe9dwkosq76"
   },
   "source": [
    "## Ejercicio 6"
   ]
  },
  {
   "cell_type": "code",
   "execution_count": null,
   "metadata": {
    "colab": {},
    "colab_type": "code",
    "id": "dnq5zP63sq77"
   },
   "outputs": [],
   "source": [
    "# Tuplas:\n",
    "tupla = (1, 2, 3, \"xyz\", True, [0.1, 1.0])\n",
    "lista = [\"gallina\", \"pavo\", \"avestruz\"]"
   ]
  },
  {
   "cell_type": "code",
   "execution_count": null,
   "metadata": {
    "colab": {},
    "colab_type": "code",
    "id": "GO98fCnosq78"
   },
   "outputs": [],
   "source": [
    "# Cree una tupla de nombre otra_tupla, cuyos valores sean tupla y lista.\n"
   ]
  },
  {
   "cell_type": "code",
   "execution_count": null,
   "metadata": {
    "colab": {},
    "colab_type": "code",
    "id": "mx8jTOZPsq79"
   },
   "outputs": [],
   "source": [
    "# Verifique que otra_tupla funciona accediendo a sus valores mediante la posición indexada:\n",
    "print(otra_tupla)\n",
    "print(otra_tupla[0])\n",
    "print(otra_tupla[1][-1])"
   ]
  },
  {
   "cell_type": "code",
   "execution_count": null,
   "metadata": {
    "colab": {},
    "colab_type": "code",
    "id": "2WY1nd_Zsq7_"
   },
   "outputs": [],
   "source": [
    "# Una tupla de un elemento se escribe así:\n",
    "uni_tupla = (1, )  # Sin la coma seria un variable normal\n",
    "print(uni_tupla, type(uni_tupla))"
   ]
  },
  {
   "cell_type": "code",
   "execution_count": null,
   "metadata": {
    "colab": {},
    "colab_type": "code",
    "id": "L2qtTxvnsq8A"
   },
   "outputs": [],
   "source": [
    "# La siguiente linea marca error, por que no se puede modificar una tupla.\n",
    "# Para corroborar esto, elimine el # de la siguiente linea y ejecute la celda.\n",
    "# otra_tupla[0] = \"variable\""
   ]
  },
  {
   "cell_type": "markdown",
   "metadata": {
    "colab_type": "text",
    "id": "KCbh7bhSsq8B"
   },
   "source": [
    "## Ejercicio 7"
   ]
  },
  {
   "cell_type": "code",
   "execution_count": null,
   "metadata": {
    "colab": {},
    "colab_type": "code",
    "id": "7NM41OLisq8B"
   },
   "outputs": [],
   "source": [
    "# Diccionarios:\n",
    "diccionario = {\"1\":\"primer elemento\",\n",
    "              \"llave2\":[3.5, \"B\"],\n",
    "              100:(\"jugo\",\"fruta\", \"pan\")}\n",
    "\n",
    "print(diccionario)"
   ]
  },
  {
   "cell_type": "code",
   "execution_count": null,
   "metadata": {
    "colab": {},
    "colab_type": "code",
    "id": "BuFQZJcksq8C"
   },
   "outputs": [],
   "source": [
    "# Obtener las llaves en el diccionario\n",
    "var_llaves = _____\n",
    "print(\"Imprimimos las llaves\")\n",
    "print( _____)\n"
   ]
  },
  {
   "cell_type": "code",
   "execution_count": null,
   "metadata": {
    "colab": {},
    "colab_type": "code",
    "id": "AANzp5Uusq8E"
   },
   "outputs": [],
   "source": [
    "# Obtener solamente los valores del diccionario\n",
    "var_valores =  _____\n",
    "\n",
    "# Imprimimos los valores\n",
    "print(\"\\nImprimimos los contenidos\")\n",
    "print( _____)"
   ]
  },
  {
   "cell_type": "code",
   "execution_count": null,
   "metadata": {
    "colab": {},
    "colab_type": "code",
    "id": "1kjjGrPYsq8F"
   },
   "outputs": [],
   "source": [
    "# Obtener el contenido de la segunda llave\n",
    "elemento = \n",
    "print(\"\\nEl contenido de llave 2 es:\")\n",
    "print(elemento)"
   ]
  },
  {
   "cell_type": "code",
   "execution_count": null,
   "metadata": {
    "colab": {},
    "colab_type": "code",
    "id": "blNgmXBasq8H"
   },
   "outputs": [],
   "source": [
    "# Modifica el contenido del segundo elemento\n",
    "diccionario[ _____] =  _____\n",
    "print(diccionario)"
   ]
  },
  {
   "cell_type": "markdown",
   "metadata": {
    "colab_type": "text",
    "id": "QrN4miOjMcr2"
   },
   "source": [
    "# Conjuntos (Sets)"
   ]
  },
  {
   "cell_type": "markdown",
   "metadata": {
    "colab_type": "text",
    "id": "wu0xNSFCMcr3"
   },
   "source": [
    "Un conjunto (set) es otro tipo de estructura de datos en Python. Es una coleccion no ordenada de objetos únicos."
   ]
  },
  {
   "cell_type": "code",
   "execution_count": null,
   "metadata": {
    "colab": {},
    "colab_type": "code",
    "id": "AMbMLtKXMcr3"
   },
   "outputs": [],
   "source": [
    "# Para crear un set utilizamos el simbolo de agrupación de llaves. \n",
    "# A diferencia de un diccionario, aquí no hay variables pareadas\n",
    "\n",
    "s={1,2,3,4}"
   ]
  },
  {
   "cell_type": "code",
   "execution_count": null,
   "metadata": {
    "colab": {},
    "colab_type": "code",
    "id": "dfd4PLFuMcr7"
   },
   "outputs": [],
   "source": [
    "# De igual modo que con las otras 3 estructuras, las variables pueden no ser del mismo tipo:\n",
    "s = {True, 3.14, None, False, \"Hola mundo\", (1, 2)}"
   ]
  },
  {
   "cell_type": "code",
   "execution_count": null,
   "metadata": {
    "colab": {},
    "colab_type": "code",
    "id": "vHBBSzPoMcr8"
   },
   "outputs": [],
   "source": [
    "# Lo único, es que los sets no pueden incluir datos mutables, como son las listas o diccionarios:\n",
    "#s={lista}"
   ]
  },
  {
   "cell_type": "code",
   "execution_count": null,
   "metadata": {
    "colab": {},
    "colab_type": "code",
    "id": "LaM1filaMcr9",
    "outputId": "3cbe00ef-ae09-43e5-aa8b-85e1f9b044aa"
   },
   "outputs": [],
   "source": [
    "# En caso de querer crear un set vacio, Python no es capaz de distinguir entre set y diccionario:\n",
    "s={}\n",
    "type(s)"
   ]
  },
  {
   "cell_type": "code",
   "execution_count": null,
   "metadata": {
    "colab": {},
    "colab_type": "code",
    "id": "zXCAlM5WMcsA",
    "outputId": "b642eda5-0dc0-4cbe-f2fd-abb46a9e36fb"
   },
   "outputs": [],
   "source": [
    "# En este tipo de situación será necesario hacer una instancia directa desde la clase set:\n",
    "s=set()\n",
    "type(s)"
   ]
  },
  {
   "cell_type": "code",
   "execution_count": null,
   "metadata": {
    "colab": {},
    "colab_type": "code",
    "id": "X9IPkMehMcsB",
    "outputId": "7881be2f-4e26-4679-d902-f7b237a4196c"
   },
   "outputs": [],
   "source": [
    "# Una de las características de los sets, es que elimina los datos duplicados, almacenando únicamente\n",
    "# la primera aparición:\n",
    "s={1,1,1,1,1,1,1}\n",
    "s"
   ]
  },
  {
   "cell_type": "code",
   "execution_count": null,
   "metadata": {
    "colab": {},
    "colab_type": "code",
    "id": "0ZCqGpMDMcsC",
    "outputId": "994d5f3a-b324-4ff6-c4e8-7e446c885efc"
   },
   "outputs": [],
   "source": [
    "ejemplo=[\"Hola \",\"Hola \",\"Hola \",\"Hola \",\"Mundo!\",\"Mundo!\",\"Mundo!\",\"Mundo!\",\"Mundo!\"]\n",
    "len(ejemplo)"
   ]
  },
  {
   "cell_type": "code",
   "execution_count": null,
   "metadata": {
    "colab": {},
    "colab_type": "code",
    "id": "0STzy1yqMcsD",
    "outputId": "2b83111a-c513-4d6d-b73d-cfcdaedb9599"
   },
   "outputs": [],
   "source": [
    "s=set(ejemplo)\n",
    "s"
   ]
  },
  {
   "cell_type": "markdown",
   "metadata": {
    "colab_type": "text",
    "id": "dzH9VH6KMcsE"
   },
   "source": [
    "Los sets son mutables, vía varios métodos. Por mencionar algunos: **add()**, **update()**, **discar()** y **remove()**"
   ]
  },
  {
   "cell_type": "code",
   "execution_count": null,
   "metadata": {
    "colab": {},
    "colab_type": "code",
    "id": "G8C7VzlkMcsE",
    "outputId": "6a7c2388-0bc3-49c9-d678-0021e53628cd"
   },
   "outputs": [],
   "source": [
    "print(dir(s))"
   ]
  },
  {
   "cell_type": "code",
   "execution_count": null,
   "metadata": {
    "colab": {},
    "colab_type": "code",
    "id": "NDnWC9UJMcsG",
    "outputId": "fd19b34d-aba2-4a7e-ad57-35e02a0443d4"
   },
   "outputs": [],
   "source": [
    "s.issubset(ejemplo)"
   ]
  },
  {
   "cell_type": "markdown",
   "metadata": {
    "colab_type": "text",
    "id": "SkMn-UdLkjYM"
   },
   "source": [
    "# Ejemplos de polimorfismo Ciclo For"
   ]
  },
  {
   "cell_type": "code",
   "execution_count": null,
   "metadata": {
    "colab": {},
    "colab_type": "code",
    "id": "1u8LOTrQywvo"
   },
   "outputs": [],
   "source": [
    "for x in \"banana\":\n",
    "    print(x)"
   ]
  },
  {
   "cell_type": "code",
   "execution_count": null,
   "metadata": {
    "colab": {},
    "colab_type": "code",
    "id": "4H8JOw_8kjYS"
   },
   "outputs": [],
   "source": [
    "a=0\n",
    "for x in \"banana\":\n",
    "    print(str(a) + \" \" + x)\n",
    "    a+=1"
   ]
  },
  {
   "cell_type": "code",
   "execution_count": 6,
   "metadata": {},
   "outputs": [
    {
     "name": "stdout",
     "output_type": "stream",
     "text": [
      "0 b\n",
      "1 a\n",
      "2 n\n",
      "3 a\n",
      "4 n\n",
      "5 a\n"
     ]
    }
   ],
   "source": [
    "for a,x in enumerate(\"banana\"):\n",
    "    print(a, x)"
   ]
  },
  {
   "cell_type": "code",
   "execution_count": 7,
   "metadata": {},
   "outputs": [
    {
     "name": "stdout",
     "output_type": "stream",
     "text": [
      "1 m\n",
      "2 a\n",
      "3 n\n",
      "4 z\n",
      "5 a\n",
      "6 n\n",
      "7 a\n"
     ]
    }
   ],
   "source": [
    "for a,x in enumerate(\"manzana\",1):\n",
    "    print(a, x)"
   ]
  },
  {
   "cell_type": "code",
   "execution_count": null,
   "metadata": {
    "colab": {},
    "colab_type": "code",
    "id": "0kEwycZtkjYU"
   },
   "outputs": [],
   "source": [
    "lista=[\"platano\", \"manzana\", \"pera\"]\n",
    "for x in lista:\n",
    "    print(x)"
   ]
  },
  {
   "cell_type": "markdown",
   "metadata": {
    "colab_type": "text",
    "id": "BDE8EGOPkjYX"
   },
   "source": [
    "Con la sentencia **break** podemos detener las iteraciones dentro de un ciclo:"
   ]
  },
  {
   "cell_type": "code",
   "execution_count": null,
   "metadata": {
    "colab": {},
    "colab_type": "code",
    "id": "OH5cEXuAkjYY"
   },
   "outputs": [],
   "source": [
    "for x in lista:\n",
    "    print(x)\n",
    "    if x==\"manzana\":\n",
    "        break"
   ]
  },
  {
   "cell_type": "code",
   "execution_count": null,
   "metadata": {
    "colab": {},
    "colab_type": "code",
    "id": "a4U_1LDOkjYa"
   },
   "outputs": [],
   "source": [
    "for x in lista:\n",
    "    if x==\"manzana\":\n",
    "        break\n",
    "    print(x)"
   ]
  },
  {
   "cell_type": "markdown",
   "metadata": {
    "colab_type": "text",
    "id": "9gPjD_KHkjYb"
   },
   "source": [
    "Con la sentencia **continue** podemos detener la iteracion actual dentro de un ciclo y que pase a la siguiente:"
   ]
  },
  {
   "cell_type": "code",
   "execution_count": null,
   "metadata": {
    "colab": {},
    "colab_type": "code",
    "id": "EmWT-W4JkjYc"
   },
   "outputs": [],
   "source": [
    "for x in lista:\n",
    "    if x==\"manzana\":\n",
    "        continue #Este comando sería igual a pasar de largo el elemento manzana.\n",
    "    print(x)"
   ]
  },
  {
   "cell_type": "code",
   "execution_count": null,
   "metadata": {
    "colab": {},
    "colab_type": "code",
    "id": "U41dLvWLMcsl",
    "outputId": "300adc5b-6bfd-4371-e788-67e8053566ea",
    "scrolled": true
   },
   "outputs": [],
   "source": [
    "#El siguiente ciclo imprime las llaves dentro de un diccionario\n",
    "for i in diccionario:\n",
    "    print (i)"
   ]
  },
  {
   "cell_type": "code",
   "execution_count": null,
   "metadata": {
    "colab": {},
    "colab_type": "code",
    "id": "NI339QW4Mcso",
    "outputId": "913e84d1-984a-4b9a-d43a-e74b87b0139e"
   },
   "outputs": [],
   "source": [
    "sexo=(\"m\",\"f\")\n",
    "punto_cardinal=(\"E\", \"O\", \"N\", \"S\")\n",
    "colores_primarios=(\"azul\", \"rojo\", \"verde\")\n",
    "\n",
    "programas=[\"GoT\", \"The Big Bang Theory\", \"Cosmos\", \"Friends\", \"Pimp my ride\"]\n",
    "\n",
    "diccionario={\"tuplas\":(sexo,punto_cardinal,colores_primarios), \n",
    "             \"listas\":programas, \"Libre\":[\"Hola\", \"este\", \"es\", \"un\", \"diccionario\"] }\n",
    "\n",
    "for i in diccionario:\n",
    "    print (i)"
   ]
  },
  {
   "cell_type": "code",
   "execution_count": null,
   "metadata": {
    "scrolled": true
   },
   "outputs": [],
   "source": [
    "for i in diccionario:\n",
    "    print (diccionario[i])"
   ]
  },
  {
   "cell_type": "code",
   "execution_count": null,
   "metadata": {},
   "outputs": [],
   "source": [
    "for i in diccionario:\n",
    "    print (i,\":\",diccionario[i])"
   ]
  },
  {
   "cell_type": "code",
   "execution_count": null,
   "metadata": {
    "colab": {},
    "colab_type": "code",
    "id": "BxwL1xXVMcsr",
    "outputId": "9bb48885-4d30-4c45-b623-df801209f683",
    "scrolled": true
   },
   "outputs": [],
   "source": [
    "for i in diccionario:\n",
    "    print(type(diccionario[i]))"
   ]
  },
  {
   "cell_type": "code",
   "execution_count": null,
   "metadata": {
    "colab": {},
    "colab_type": "code",
    "id": "vgFq6wd-Mcss",
    "outputId": "10b4a357-06e0-48c2-b1da-91bbfa290b30"
   },
   "outputs": [],
   "source": [
    "for i in diccionario:\n",
    "    print (i,\":\",diccionario[i])\n",
    "    print(type(diccionario[i]))\n",
    "    print()"
   ]
  },
  {
   "cell_type": "markdown",
   "metadata": {
    "colab_type": "text",
    "id": "VsHorsdCkjZB"
   },
   "source": [
    "Otra forma de obtener el resultado anterior, sería mediante el uso del método **values()**"
   ]
  },
  {
   "cell_type": "code",
   "execution_count": null,
   "metadata": {
    "colab": {},
    "colab_type": "code",
    "id": "wE552CKukjZB",
    "outputId": "858b09ec-9a3a-453e-c4e5-f10ab2fcee61"
   },
   "outputs": [],
   "source": [
    "for i in diccionario.values():\n",
    "    print(i)"
   ]
  },
  {
   "cell_type": "markdown",
   "metadata": {
    "colab_type": "text",
    "id": "nnsDjSfKkjZE"
   },
   "source": [
    "El método **items** nos ayuda a obtener las claves y sus valores de forma simultanea:"
   ]
  },
  {
   "cell_type": "code",
   "execution_count": null,
   "metadata": {
    "colab": {},
    "colab_type": "code",
    "id": "n8HuFQmmkjZE",
    "outputId": "6e6b1229-cb0b-4171-e29f-09da6580cf38"
   },
   "outputs": [],
   "source": [
    "for x, y in diccionario.items():\n",
    "    print(x,\":\", y)"
   ]
  },
  {
   "cell_type": "markdown",
   "metadata": {
    "colab_type": "text",
    "id": "ShYD3yFckjYd"
   },
   "source": [
    "### El comando Else en el ciclo For\n",
    "\n",
    "El comando **Else** en un ciclo **For** especifica un bloque de código que se ejecutará solo al termino del loop."
   ]
  },
  {
   "cell_type": "code",
   "execution_count": null,
   "metadata": {
    "colab": {},
    "colab_type": "code",
    "id": "zo3G0mEekjYe"
   },
   "outputs": [],
   "source": [
    "for x in range(6):\n",
    "    print(x)\n",
    "else:\n",
    "    print(\"Por fin terminó!\")"
   ]
  },
  {
   "cell_type": "markdown",
   "metadata": {
    "colab_type": "text",
    "id": "e1CwjDQHkjYf"
   },
   "source": [
    "### Loops anidados\n",
    "\n",
    "En este tipo de sintaxis, el loop mas *interior* completara todos sus iteraciones por cada iteración del loop *exterior.*"
   ]
  },
  {
   "cell_type": "code",
   "execution_count": null,
   "metadata": {
    "colab": {},
    "colab_type": "code",
    "id": "E-T4x3YikjYg"
   },
   "outputs": [],
   "source": [
    "frutas = [\"limón\", \"platano\", \"mango\", \"fresa\", \"Kiwi\"]\n",
    "adjetivos = [\"colorido\", \"grande\", \"sabroso\"]\n",
    "\n",
    "\n",
    "for x in frutas:\n",
    "    for y in adjetivos:\n",
    "        print(x, y)"
   ]
  },
  {
   "cell_type": "code",
   "execution_count": null,
   "metadata": {
    "colab": {},
    "colab_type": "code",
    "id": "fx-Pgdkk31ml"
   },
   "outputs": [],
   "source": [
    "bm=(\"bueno\",\"malo\")\n",
    "resultado=[]\n",
    "for x in frutas:\n",
    "    for y in adjetivos:\n",
    "        for z in bm:\n",
    "            resultado.append((x, y, z))\n",
    "print(resultado)"
   ]
  },
  {
   "cell_type": "code",
   "execution_count": null,
   "metadata": {
    "colab": {},
    "colab_type": "code",
    "id": "hpa3OqhIfQj7"
   },
   "outputs": [],
   "source": [
    "len(resultado)"
   ]
  },
  {
   "cell_type": "code",
   "execution_count": null,
   "metadata": {},
   "outputs": [],
   "source": []
  }
 ],
 "metadata": {
  "kernelspec": {
   "display_name": "Python 3",
   "language": "python",
   "name": "python3"
  },
  "language_info": {
   "codemirror_mode": {
    "name": "ipython",
    "version": 3
   },
   "file_extension": ".py",
   "mimetype": "text/x-python",
   "name": "python",
   "nbconvert_exporter": "python",
   "pygments_lexer": "ipython3",
   "version": "3.7.3"
  }
 },
 "nbformat": 4,
 "nbformat_minor": 2
}
